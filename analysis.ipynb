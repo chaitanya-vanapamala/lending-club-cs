{
 "cells": [
  {
   "cell_type": "code",
   "execution_count": 1,
   "metadata": {
    "colab": {
     "base_uri": "https://localhost:8080/",
     "height": 72
    },
    "colab_type": "code",
    "id": "_9K1d_djMnyh",
    "outputId": "d0ae2996-60db-4c05-8857-9df37df8b92c"
   },
   "outputs": [],
   "source": [
    "import pandas as pd\n",
    "import matplotlib.pyplot as plt\n",
    "import seaborn as sns"
   ]
  },
  {
   "cell_type": "code",
   "execution_count": 2,
   "metadata": {
    "colab": {},
    "colab_type": "code",
    "id": "M4Zfg4EFMnyl"
   },
   "outputs": [],
   "source": [
    "# Set path to access CSV\n",
    "#path = '/content/drive/My Drive/PGML/'\n",
    "# path = '/home/chaitanya/AnacondaProjects/eda-loan/'\n",
    "#supress scintific notation of values\n",
    "pd.options.display.float_format = '{:.2f}'.format\n",
    "pd.set_option('display.max_columns', 50)\n",
    "pd.set_option('display.max_rows', 100)"
   ]
  },
  {
   "cell_type": "code",
   "execution_count": 3,
   "metadata": {
    "colab": {
     "base_uri": "https://localhost:8080/",
     "height": 707
    },
    "colab_type": "code",
    "id": "Fr_KGjaDMnyo",
    "outputId": "9578077a-2635-456a-9f73-751bc736fdda"
   },
   "outputs": [
    {
     "data": {
      "text/html": [
       "<div>\n",
       "<style scoped>\n",
       "    .dataframe tbody tr th:only-of-type {\n",
       "        vertical-align: middle;\n",
       "    }\n",
       "\n",
       "    .dataframe tbody tr th {\n",
       "        vertical-align: top;\n",
       "    }\n",
       "\n",
       "    .dataframe thead th {\n",
       "        text-align: right;\n",
       "    }\n",
       "</style>\n",
       "<table border=\"1\" class=\"dataframe\">\n",
       "  <thead>\n",
       "    <tr style=\"text-align: right;\">\n",
       "      <th></th>\n",
       "      <th>id</th>\n",
       "      <th>member_id</th>\n",
       "      <th>loan_amnt</th>\n",
       "      <th>funded_amnt</th>\n",
       "      <th>funded_amnt_inv</th>\n",
       "      <th>term</th>\n",
       "      <th>int_rate</th>\n",
       "      <th>installment</th>\n",
       "      <th>grade</th>\n",
       "      <th>sub_grade</th>\n",
       "      <th>emp_title</th>\n",
       "      <th>emp_length</th>\n",
       "      <th>home_ownership</th>\n",
       "      <th>annual_inc</th>\n",
       "      <th>verification_status</th>\n",
       "      <th>issue_d</th>\n",
       "      <th>loan_status</th>\n",
       "      <th>pymnt_plan</th>\n",
       "      <th>url</th>\n",
       "      <th>desc</th>\n",
       "      <th>purpose</th>\n",
       "      <th>title</th>\n",
       "      <th>zip_code</th>\n",
       "      <th>addr_state</th>\n",
       "      <th>dti</th>\n",
       "      <th>...</th>\n",
       "      <th>mths_since_recent_bc_dlq</th>\n",
       "      <th>mths_since_recent_inq</th>\n",
       "      <th>mths_since_recent_revol_delinq</th>\n",
       "      <th>num_accts_ever_120_pd</th>\n",
       "      <th>num_actv_bc_tl</th>\n",
       "      <th>num_actv_rev_tl</th>\n",
       "      <th>num_bc_sats</th>\n",
       "      <th>num_bc_tl</th>\n",
       "      <th>num_il_tl</th>\n",
       "      <th>num_op_rev_tl</th>\n",
       "      <th>num_rev_accts</th>\n",
       "      <th>num_rev_tl_bal_gt_0</th>\n",
       "      <th>num_sats</th>\n",
       "      <th>num_tl_120dpd_2m</th>\n",
       "      <th>num_tl_30dpd</th>\n",
       "      <th>num_tl_90g_dpd_24m</th>\n",
       "      <th>num_tl_op_past_12m</th>\n",
       "      <th>pct_tl_nvr_dlq</th>\n",
       "      <th>percent_bc_gt_75</th>\n",
       "      <th>pub_rec_bankruptcies</th>\n",
       "      <th>tax_liens</th>\n",
       "      <th>tot_hi_cred_lim</th>\n",
       "      <th>total_bal_ex_mort</th>\n",
       "      <th>total_bc_limit</th>\n",
       "      <th>total_il_high_credit_limit</th>\n",
       "    </tr>\n",
       "  </thead>\n",
       "  <tbody>\n",
       "    <tr>\n",
       "      <th>0</th>\n",
       "      <td>1077501</td>\n",
       "      <td>1296599</td>\n",
       "      <td>5000</td>\n",
       "      <td>5000</td>\n",
       "      <td>4975.00</td>\n",
       "      <td>36 months</td>\n",
       "      <td>10.65%</td>\n",
       "      <td>162.87</td>\n",
       "      <td>B</td>\n",
       "      <td>B2</td>\n",
       "      <td>NaN</td>\n",
       "      <td>10+ years</td>\n",
       "      <td>RENT</td>\n",
       "      <td>24000.00</td>\n",
       "      <td>Verified</td>\n",
       "      <td>Dec-11</td>\n",
       "      <td>Fully Paid</td>\n",
       "      <td>n</td>\n",
       "      <td>https://lendingclub.com/browse/loanDetail.acti...</td>\n",
       "      <td>Borrower added on 12/22/11 &gt; I need to upgra...</td>\n",
       "      <td>credit_card</td>\n",
       "      <td>Computer</td>\n",
       "      <td>860xx</td>\n",
       "      <td>AZ</td>\n",
       "      <td>27.65</td>\n",
       "      <td>...</td>\n",
       "      <td>nan</td>\n",
       "      <td>nan</td>\n",
       "      <td>nan</td>\n",
       "      <td>nan</td>\n",
       "      <td>nan</td>\n",
       "      <td>nan</td>\n",
       "      <td>nan</td>\n",
       "      <td>nan</td>\n",
       "      <td>nan</td>\n",
       "      <td>nan</td>\n",
       "      <td>nan</td>\n",
       "      <td>nan</td>\n",
       "      <td>nan</td>\n",
       "      <td>nan</td>\n",
       "      <td>nan</td>\n",
       "      <td>nan</td>\n",
       "      <td>nan</td>\n",
       "      <td>nan</td>\n",
       "      <td>nan</td>\n",
       "      <td>0.00</td>\n",
       "      <td>0.00</td>\n",
       "      <td>nan</td>\n",
       "      <td>nan</td>\n",
       "      <td>nan</td>\n",
       "      <td>nan</td>\n",
       "    </tr>\n",
       "    <tr>\n",
       "      <th>1</th>\n",
       "      <td>1077430</td>\n",
       "      <td>1314167</td>\n",
       "      <td>2500</td>\n",
       "      <td>2500</td>\n",
       "      <td>2500.00</td>\n",
       "      <td>60 months</td>\n",
       "      <td>15.27%</td>\n",
       "      <td>59.83</td>\n",
       "      <td>C</td>\n",
       "      <td>C4</td>\n",
       "      <td>Ryder</td>\n",
       "      <td>&lt; 1 year</td>\n",
       "      <td>RENT</td>\n",
       "      <td>30000.00</td>\n",
       "      <td>Source Verified</td>\n",
       "      <td>Dec-11</td>\n",
       "      <td>Charged Off</td>\n",
       "      <td>n</td>\n",
       "      <td>https://lendingclub.com/browse/loanDetail.acti...</td>\n",
       "      <td>Borrower added on 12/22/11 &gt; I plan to use t...</td>\n",
       "      <td>car</td>\n",
       "      <td>bike</td>\n",
       "      <td>309xx</td>\n",
       "      <td>GA</td>\n",
       "      <td>1.00</td>\n",
       "      <td>...</td>\n",
       "      <td>nan</td>\n",
       "      <td>nan</td>\n",
       "      <td>nan</td>\n",
       "      <td>nan</td>\n",
       "      <td>nan</td>\n",
       "      <td>nan</td>\n",
       "      <td>nan</td>\n",
       "      <td>nan</td>\n",
       "      <td>nan</td>\n",
       "      <td>nan</td>\n",
       "      <td>nan</td>\n",
       "      <td>nan</td>\n",
       "      <td>nan</td>\n",
       "      <td>nan</td>\n",
       "      <td>nan</td>\n",
       "      <td>nan</td>\n",
       "      <td>nan</td>\n",
       "      <td>nan</td>\n",
       "      <td>nan</td>\n",
       "      <td>0.00</td>\n",
       "      <td>0.00</td>\n",
       "      <td>nan</td>\n",
       "      <td>nan</td>\n",
       "      <td>nan</td>\n",
       "      <td>nan</td>\n",
       "    </tr>\n",
       "    <tr>\n",
       "      <th>2</th>\n",
       "      <td>1077175</td>\n",
       "      <td>1313524</td>\n",
       "      <td>2400</td>\n",
       "      <td>2400</td>\n",
       "      <td>2400.00</td>\n",
       "      <td>36 months</td>\n",
       "      <td>15.96%</td>\n",
       "      <td>84.33</td>\n",
       "      <td>C</td>\n",
       "      <td>C5</td>\n",
       "      <td>NaN</td>\n",
       "      <td>10+ years</td>\n",
       "      <td>RENT</td>\n",
       "      <td>12252.00</td>\n",
       "      <td>Not Verified</td>\n",
       "      <td>Dec-11</td>\n",
       "      <td>Fully Paid</td>\n",
       "      <td>n</td>\n",
       "      <td>https://lendingclub.com/browse/loanDetail.acti...</td>\n",
       "      <td>NaN</td>\n",
       "      <td>small_business</td>\n",
       "      <td>real estate business</td>\n",
       "      <td>606xx</td>\n",
       "      <td>IL</td>\n",
       "      <td>8.72</td>\n",
       "      <td>...</td>\n",
       "      <td>nan</td>\n",
       "      <td>nan</td>\n",
       "      <td>nan</td>\n",
       "      <td>nan</td>\n",
       "      <td>nan</td>\n",
       "      <td>nan</td>\n",
       "      <td>nan</td>\n",
       "      <td>nan</td>\n",
       "      <td>nan</td>\n",
       "      <td>nan</td>\n",
       "      <td>nan</td>\n",
       "      <td>nan</td>\n",
       "      <td>nan</td>\n",
       "      <td>nan</td>\n",
       "      <td>nan</td>\n",
       "      <td>nan</td>\n",
       "      <td>nan</td>\n",
       "      <td>nan</td>\n",
       "      <td>nan</td>\n",
       "      <td>0.00</td>\n",
       "      <td>0.00</td>\n",
       "      <td>nan</td>\n",
       "      <td>nan</td>\n",
       "      <td>nan</td>\n",
       "      <td>nan</td>\n",
       "    </tr>\n",
       "    <tr>\n",
       "      <th>3</th>\n",
       "      <td>1076863</td>\n",
       "      <td>1277178</td>\n",
       "      <td>10000</td>\n",
       "      <td>10000</td>\n",
       "      <td>10000.00</td>\n",
       "      <td>36 months</td>\n",
       "      <td>13.49%</td>\n",
       "      <td>339.31</td>\n",
       "      <td>C</td>\n",
       "      <td>C1</td>\n",
       "      <td>AIR RESOURCES BOARD</td>\n",
       "      <td>10+ years</td>\n",
       "      <td>RENT</td>\n",
       "      <td>49200.00</td>\n",
       "      <td>Source Verified</td>\n",
       "      <td>Dec-11</td>\n",
       "      <td>Fully Paid</td>\n",
       "      <td>n</td>\n",
       "      <td>https://lendingclub.com/browse/loanDetail.acti...</td>\n",
       "      <td>Borrower added on 12/21/11 &gt; to pay for prop...</td>\n",
       "      <td>other</td>\n",
       "      <td>personel</td>\n",
       "      <td>917xx</td>\n",
       "      <td>CA</td>\n",
       "      <td>20.00</td>\n",
       "      <td>...</td>\n",
       "      <td>nan</td>\n",
       "      <td>nan</td>\n",
       "      <td>nan</td>\n",
       "      <td>nan</td>\n",
       "      <td>nan</td>\n",
       "      <td>nan</td>\n",
       "      <td>nan</td>\n",
       "      <td>nan</td>\n",
       "      <td>nan</td>\n",
       "      <td>nan</td>\n",
       "      <td>nan</td>\n",
       "      <td>nan</td>\n",
       "      <td>nan</td>\n",
       "      <td>nan</td>\n",
       "      <td>nan</td>\n",
       "      <td>nan</td>\n",
       "      <td>nan</td>\n",
       "      <td>nan</td>\n",
       "      <td>nan</td>\n",
       "      <td>0.00</td>\n",
       "      <td>0.00</td>\n",
       "      <td>nan</td>\n",
       "      <td>nan</td>\n",
       "      <td>nan</td>\n",
       "      <td>nan</td>\n",
       "    </tr>\n",
       "    <tr>\n",
       "      <th>4</th>\n",
       "      <td>1075358</td>\n",
       "      <td>1311748</td>\n",
       "      <td>3000</td>\n",
       "      <td>3000</td>\n",
       "      <td>3000.00</td>\n",
       "      <td>60 months</td>\n",
       "      <td>12.69%</td>\n",
       "      <td>67.79</td>\n",
       "      <td>B</td>\n",
       "      <td>B5</td>\n",
       "      <td>University Medical Group</td>\n",
       "      <td>1 year</td>\n",
       "      <td>RENT</td>\n",
       "      <td>80000.00</td>\n",
       "      <td>Source Verified</td>\n",
       "      <td>Dec-11</td>\n",
       "      <td>Current</td>\n",
       "      <td>n</td>\n",
       "      <td>https://lendingclub.com/browse/loanDetail.acti...</td>\n",
       "      <td>Borrower added on 12/21/11 &gt; I plan on combi...</td>\n",
       "      <td>other</td>\n",
       "      <td>Personal</td>\n",
       "      <td>972xx</td>\n",
       "      <td>OR</td>\n",
       "      <td>17.94</td>\n",
       "      <td>...</td>\n",
       "      <td>nan</td>\n",
       "      <td>nan</td>\n",
       "      <td>nan</td>\n",
       "      <td>nan</td>\n",
       "      <td>nan</td>\n",
       "      <td>nan</td>\n",
       "      <td>nan</td>\n",
       "      <td>nan</td>\n",
       "      <td>nan</td>\n",
       "      <td>nan</td>\n",
       "      <td>nan</td>\n",
       "      <td>nan</td>\n",
       "      <td>nan</td>\n",
       "      <td>nan</td>\n",
       "      <td>nan</td>\n",
       "      <td>nan</td>\n",
       "      <td>nan</td>\n",
       "      <td>nan</td>\n",
       "      <td>nan</td>\n",
       "      <td>0.00</td>\n",
       "      <td>0.00</td>\n",
       "      <td>nan</td>\n",
       "      <td>nan</td>\n",
       "      <td>nan</td>\n",
       "      <td>nan</td>\n",
       "    </tr>\n",
       "  </tbody>\n",
       "</table>\n",
       "<p>5 rows × 111 columns</p>\n",
       "</div>"
      ],
      "text/plain": [
       "        id  member_id  loan_amnt  funded_amnt  funded_amnt_inv        term  \\\n",
       "0  1077501    1296599       5000         5000          4975.00   36 months   \n",
       "1  1077430    1314167       2500         2500          2500.00   60 months   \n",
       "2  1077175    1313524       2400         2400          2400.00   36 months   \n",
       "3  1076863    1277178      10000        10000         10000.00   36 months   \n",
       "4  1075358    1311748       3000         3000          3000.00   60 months   \n",
       "\n",
       "  int_rate  installment grade sub_grade                 emp_title emp_length  \\\n",
       "0   10.65%       162.87     B        B2                       NaN  10+ years   \n",
       "1   15.27%        59.83     C        C4                     Ryder   < 1 year   \n",
       "2   15.96%        84.33     C        C5                       NaN  10+ years   \n",
       "3   13.49%       339.31     C        C1       AIR RESOURCES BOARD  10+ years   \n",
       "4   12.69%        67.79     B        B5  University Medical Group     1 year   \n",
       "\n",
       "  home_ownership  annual_inc verification_status issue_d  loan_status  \\\n",
       "0           RENT    24000.00            Verified  Dec-11   Fully Paid   \n",
       "1           RENT    30000.00     Source Verified  Dec-11  Charged Off   \n",
       "2           RENT    12252.00        Not Verified  Dec-11   Fully Paid   \n",
       "3           RENT    49200.00     Source Verified  Dec-11   Fully Paid   \n",
       "4           RENT    80000.00     Source Verified  Dec-11      Current   \n",
       "\n",
       "  pymnt_plan                                                url  \\\n",
       "0          n  https://lendingclub.com/browse/loanDetail.acti...   \n",
       "1          n  https://lendingclub.com/browse/loanDetail.acti...   \n",
       "2          n  https://lendingclub.com/browse/loanDetail.acti...   \n",
       "3          n  https://lendingclub.com/browse/loanDetail.acti...   \n",
       "4          n  https://lendingclub.com/browse/loanDetail.acti...   \n",
       "\n",
       "                                                desc         purpose  \\\n",
       "0    Borrower added on 12/22/11 > I need to upgra...     credit_card   \n",
       "1    Borrower added on 12/22/11 > I plan to use t...             car   \n",
       "2                                                NaN  small_business   \n",
       "3    Borrower added on 12/21/11 > to pay for prop...           other   \n",
       "4    Borrower added on 12/21/11 > I plan on combi...           other   \n",
       "\n",
       "                  title zip_code addr_state   dti  ...  \\\n",
       "0              Computer    860xx         AZ 27.65  ...   \n",
       "1                  bike    309xx         GA  1.00  ...   \n",
       "2  real estate business    606xx         IL  8.72  ...   \n",
       "3              personel    917xx         CA 20.00  ...   \n",
       "4              Personal    972xx         OR 17.94  ...   \n",
       "\n",
       "   mths_since_recent_bc_dlq mths_since_recent_inq  \\\n",
       "0                       nan                   nan   \n",
       "1                       nan                   nan   \n",
       "2                       nan                   nan   \n",
       "3                       nan                   nan   \n",
       "4                       nan                   nan   \n",
       "\n",
       "   mths_since_recent_revol_delinq  num_accts_ever_120_pd  num_actv_bc_tl  \\\n",
       "0                             nan                    nan             nan   \n",
       "1                             nan                    nan             nan   \n",
       "2                             nan                    nan             nan   \n",
       "3                             nan                    nan             nan   \n",
       "4                             nan                    nan             nan   \n",
       "\n",
       "   num_actv_rev_tl  num_bc_sats  num_bc_tl num_il_tl  num_op_rev_tl  \\\n",
       "0              nan          nan        nan       nan            nan   \n",
       "1              nan          nan        nan       nan            nan   \n",
       "2              nan          nan        nan       nan            nan   \n",
       "3              nan          nan        nan       nan            nan   \n",
       "4              nan          nan        nan       nan            nan   \n",
       "\n",
       "  num_rev_accts  num_rev_tl_bal_gt_0  num_sats  num_tl_120dpd_2m  \\\n",
       "0           nan                  nan       nan               nan   \n",
       "1           nan                  nan       nan               nan   \n",
       "2           nan                  nan       nan               nan   \n",
       "3           nan                  nan       nan               nan   \n",
       "4           nan                  nan       nan               nan   \n",
       "\n",
       "   num_tl_30dpd  num_tl_90g_dpd_24m  num_tl_op_past_12m  pct_tl_nvr_dlq  \\\n",
       "0           nan                 nan                 nan             nan   \n",
       "1           nan                 nan                 nan             nan   \n",
       "2           nan                 nan                 nan             nan   \n",
       "3           nan                 nan                 nan             nan   \n",
       "4           nan                 nan                 nan             nan   \n",
       "\n",
       "   percent_bc_gt_75  pub_rec_bankruptcies tax_liens  tot_hi_cred_lim  \\\n",
       "0               nan                  0.00      0.00              nan   \n",
       "1               nan                  0.00      0.00              nan   \n",
       "2               nan                  0.00      0.00              nan   \n",
       "3               nan                  0.00      0.00              nan   \n",
       "4               nan                  0.00      0.00              nan   \n",
       "\n",
       "  total_bal_ex_mort total_bc_limit  total_il_high_credit_limit  \n",
       "0               nan            nan                         nan  \n",
       "1               nan            nan                         nan  \n",
       "2               nan            nan                         nan  \n",
       "3               nan            nan                         nan  \n",
       "4               nan            nan                         nan  \n",
       "\n",
       "[5 rows x 111 columns]"
      ]
     },
     "execution_count": 3,
     "metadata": {},
     "output_type": "execute_result"
    }
   ],
   "source": [
    "# let your CSV file be in same level with code\n",
    "data_path = 'loan.csv'\n",
    "data = pd.read_csv(data_path, low_memory=False)\n",
    "data.head()"
   ]
  },
  {
   "cell_type": "code",
   "execution_count": 4,
   "metadata": {
    "colab": {
     "base_uri": "https://localhost:8080/",
     "height": 34
    },
    "colab_type": "code",
    "id": "EIfXy_hmMnyr",
    "outputId": "b663a2bd-123d-4e88-f134-462939e23a1e"
   },
   "outputs": [
    {
     "data": {
      "text/plain": [
       "(39717, 111)"
      ]
     },
     "execution_count": 4,
     "metadata": {},
     "output_type": "execute_result"
    }
   ],
   "source": [
    "data.shape"
   ]
  },
  {
   "cell_type": "code",
   "execution_count": 5,
   "metadata": {
    "colab": {
     "base_uri": "https://localhost:8080/",
     "height": 1000
    },
    "colab_type": "code",
    "id": "0fVmuD17Mnyu",
    "outputId": "d9fd448e-7294-4faf-ec39-dd2b381b622e"
   },
   "outputs": [
    {
     "data": {
      "text/plain": [
       "emp_title                          6.19\n",
       "emp_length                         2.71\n",
       "desc                              32.58\n",
       "title                              0.03\n",
       "mths_since_last_delinq            64.66\n",
       "mths_since_last_record            92.99\n",
       "revol_util                         0.13\n",
       "last_pymnt_d                       0.18\n",
       "next_pymnt_d                      97.13\n",
       "last_credit_pull_d                 0.01\n",
       "collections_12_mths_ex_med         0.14\n",
       "mths_since_last_major_derog      100.00\n",
       "annual_inc_joint                 100.00\n",
       "dti_joint                        100.00\n",
       "verification_status_joint        100.00\n",
       "tot_coll_amt                     100.00\n",
       "tot_cur_bal                      100.00\n",
       "open_acc_6m                      100.00\n",
       "open_il_6m                       100.00\n",
       "open_il_12m                      100.00\n",
       "open_il_24m                      100.00\n",
       "mths_since_rcnt_il               100.00\n",
       "total_bal_il                     100.00\n",
       "il_util                          100.00\n",
       "open_rv_12m                      100.00\n",
       "open_rv_24m                      100.00\n",
       "max_bal_bc                       100.00\n",
       "all_util                         100.00\n",
       "total_rev_hi_lim                 100.00\n",
       "inq_fi                           100.00\n",
       "total_cu_tl                      100.00\n",
       "inq_last_12m                     100.00\n",
       "acc_open_past_24mths             100.00\n",
       "avg_cur_bal                      100.00\n",
       "bc_open_to_buy                   100.00\n",
       "bc_util                          100.00\n",
       "chargeoff_within_12_mths           0.14\n",
       "mo_sin_old_il_acct               100.00\n",
       "mo_sin_old_rev_tl_op             100.00\n",
       "mo_sin_rcnt_rev_tl_op            100.00\n",
       "mo_sin_rcnt_tl                   100.00\n",
       "mort_acc                         100.00\n",
       "mths_since_recent_bc             100.00\n",
       "mths_since_recent_bc_dlq         100.00\n",
       "mths_since_recent_inq            100.00\n",
       "mths_since_recent_revol_delinq   100.00\n",
       "num_accts_ever_120_pd            100.00\n",
       "num_actv_bc_tl                   100.00\n",
       "num_actv_rev_tl                  100.00\n",
       "num_bc_sats                      100.00\n",
       "num_bc_tl                        100.00\n",
       "num_il_tl                        100.00\n",
       "num_op_rev_tl                    100.00\n",
       "num_rev_accts                    100.00\n",
       "num_rev_tl_bal_gt_0              100.00\n",
       "num_sats                         100.00\n",
       "num_tl_120dpd_2m                 100.00\n",
       "num_tl_30dpd                     100.00\n",
       "num_tl_90g_dpd_24m               100.00\n",
       "num_tl_op_past_12m               100.00\n",
       "pct_tl_nvr_dlq                   100.00\n",
       "percent_bc_gt_75                 100.00\n",
       "pub_rec_bankruptcies               1.75\n",
       "tax_liens                          0.10\n",
       "tot_hi_cred_lim                  100.00\n",
       "total_bal_ex_mort                100.00\n",
       "total_bc_limit                   100.00\n",
       "total_il_high_credit_limit       100.00\n",
       "dtype: float64"
      ]
     },
     "execution_count": 5,
     "metadata": {},
     "output_type": "execute_result"
    }
   ],
   "source": [
    "#Finding percentage of null or missing values\n",
    "null_perc = round(100*(data.isnull().sum()/len(data.index)), 2)\n",
    "null_perc[ null_perc > 0 ]"
   ]
  },
  {
   "cell_type": "code",
   "execution_count": 6,
   "metadata": {
    "colab": {},
    "colab_type": "code",
    "id": "JWOPiG9wMnyx"
   },
   "outputs": [],
   "source": [
    "#Removing columns which has more than 30% null values in it.\n",
    "data.drop(null_perc[ null_perc > 30 ].index, axis=1, inplace=True)"
   ]
  },
  {
   "cell_type": "code",
   "execution_count": 7,
   "metadata": {
    "colab": {
     "base_uri": "https://localhost:8080/",
     "height": 295
    },
    "colab_type": "code",
    "id": "24zMbemEMny0",
    "outputId": "11269cdb-0ba3-453d-db0d-0a2f9b440591"
   },
   "outputs": [
    {
     "data": {
      "text/plain": [
       "tax_liens                     1\n",
       "delinq_amnt                   1\n",
       "chargeoff_within_12_mths      1\n",
       "acc_now_delinq                1\n",
       "application_type              1\n",
       "policy_code                   1\n",
       "collections_12_mths_ex_med    1\n",
       "initial_list_status           1\n",
       "pymnt_plan                    1\n",
       "term                          2\n",
       "pub_rec_bankruptcies          3\n",
       "verification_status           3\n",
       "loan_status                   3\n",
       "pub_rec                       5\n",
       "home_ownership                5\n",
       "dtype: int64"
      ]
     },
     "execution_count": 7,
     "metadata": {},
     "output_type": "execute_result"
    }
   ],
   "source": [
    "data.nunique().sort_values().head(15)"
   ]
  },
  {
   "cell_type": "markdown",
   "metadata": {
    "colab_type": "text",
    "id": "1hkaCDLGMny4"
   },
   "source": [
    "*'tax_liens', 'delinq_amnt', 'chargeoff_within_12_mths', 'acc_now_delinq', 'application_type', 'policy_code', 'collections_12_mths_ex_med', 'initial_list_status', 'pymnt_plan'* columns have only one unique value in all the rows, which will not give any usefull info for us. so, lets remove them."
   ]
  },
  {
   "cell_type": "code",
   "execution_count": 8,
   "metadata": {
    "colab": {},
    "colab_type": "code",
    "id": "bsHjArASMny4"
   },
   "outputs": [],
   "source": [
    "data.drop(['tax_liens', 'delinq_amnt', 'chargeoff_within_12_mths', 'acc_now_delinq', 'application_type', 'policy_code', 'collections_12_mths_ex_med', 'initial_list_status', 'pymnt_plan'], axis=1, inplace=True)"
   ]
  },
  {
   "cell_type": "code",
   "execution_count": 9,
   "metadata": {
    "colab": {
     "base_uri": "https://localhost:8080/",
     "height": 156
    },
    "colab_type": "code",
    "id": "fGJlMn0KMny-",
    "outputId": "2d652ddf-1f1b-4414-9f90-424545a4af2a",
    "scrolled": false
   },
   "outputs": [
    {
     "data": {
      "text/plain": [
       "emp_title              6.19\n",
       "emp_length             2.71\n",
       "title                  0.03\n",
       "revol_util             0.13\n",
       "last_pymnt_d           0.18\n",
       "last_credit_pull_d     0.01\n",
       "pub_rec_bankruptcies   1.75\n",
       "dtype: float64"
      ]
     },
     "execution_count": 9,
     "metadata": {},
     "output_type": "execute_result"
    }
   ],
   "source": [
    "#Finding percentage of null or missing values\n",
    "null_perc = round(100*(data.isnull().sum()/len(data.index)), 2)\n",
    "null_perc[ null_perc > 0 ]"
   ]
  },
  {
   "cell_type": "markdown",
   "metadata": {
    "colab_type": "text",
    "id": "BZQhx3T_MnzB"
   },
   "source": [
    "Removing the the null valued rows in the above columns except 'emp_title' and 'title'"
   ]
  },
  {
   "cell_type": "code",
   "execution_count": 10,
   "metadata": {
    "colab": {
     "base_uri": "https://localhost:8080/",
     "height": 69
    },
    "colab_type": "code",
    "id": "VN0eTU-ZMnzB",
    "outputId": "56bbf675-026f-4a5e-e4a2-9fd45a4a63a6"
   },
   "outputs": [
    {
     "data": {
      "text/plain": [
       "emp_title   3.68\n",
       "title       0.03\n",
       "dtype: float64"
      ]
     },
     "execution_count": 10,
     "metadata": {},
     "output_type": "execute_result"
    }
   ],
   "source": [
    "data.dropna(subset=['emp_length', 'revol_util', 'last_pymnt_d', \n",
    "                           'last_credit_pull_d', 'pub_rec_bankruptcies'], inplace=True)\n",
    "#Finding percentage of null or missing values\n",
    "null_perc = round(100*(data.isnull().sum()/len(data.index)), 2)\n",
    "null_perc[ null_perc > 0 ]"
   ]
  },
  {
   "cell_type": "code",
   "execution_count": 11,
   "metadata": {
    "colab": {
     "base_uri": "https://localhost:8080/",
     "height": 71
    },
    "colab_type": "code",
    "id": "qgFPMOCmMnzG",
    "outputId": "ac49a09e-2f13-4e36-b27c-4810a235963a"
   },
   "outputs": [
    {
     "data": {
      "text/plain": [
       "id                 37835\n",
       "url                37835\n",
       "member_id          37835\n",
       "total_pymnt        36107\n",
       "total_pymnt_inv    35800\n",
       "total_rec_int      33663\n",
       "last_pymnt_amnt    33553\n",
       "emp_title          28213\n",
       "revol_bal          21199\n",
       "title              18677\n",
       "installment        14720\n",
       "funded_amnt_inv     7748\n",
       "dtype: int64"
      ]
     },
     "execution_count": 11,
     "metadata": {},
     "output_type": "execute_result"
    }
   ],
   "source": [
    "data.nunique().sort_values(ascending=False).head(12)"
   ]
  },
  {
   "cell_type": "markdown",
   "metadata": {
    "colab_type": "text",
    "id": "iL0tFUxhMnzI"
   },
   "source": [
    "**emp_title, and title** columns have text values which are more unique values."
   ]
  },
  {
   "cell_type": "code",
   "execution_count": 12,
   "metadata": {
    "colab": {
     "base_uri": "https://localhost:8080/",
     "height": 35
    },
    "colab_type": "code",
    "id": "sW6xnjWQMnzJ",
    "outputId": "c0c3ee9e-0342-4ad5-d556-ab26882f2205"
   },
   "outputs": [],
   "source": [
    "data.drop(['emp_title', 'title'], axis=1, inplace=True)"
   ]
  },
  {
   "cell_type": "markdown",
   "metadata": {},
   "source": [
    "**id, url, and member_id** having all unique values which means any one of these can be used as primary key.\n",
    "Let's use **id** primary key and remove url and member id columns."
   ]
  },
  {
   "cell_type": "code",
   "execution_count": 13,
   "metadata": {},
   "outputs": [],
   "source": [
    "data.drop(['member_id', 'url'], axis=1, inplace=True)"
   ]
  },
  {
   "cell_type": "code",
   "execution_count": 14,
   "metadata": {},
   "outputs": [
    {
     "data": {
      "text/plain": [
       "(37835, 40)"
      ]
     },
     "execution_count": 14,
     "metadata": {},
     "output_type": "execute_result"
    }
   ],
   "source": [
    "data.shape"
   ]
  },
  {
   "cell_type": "markdown",
   "metadata": {
    "colab_type": "text",
    "id": "72wPLUncMnzL"
   },
   "source": [
    "Looks like there isn't much change in the number of observation after cleaning it."
   ]
  },
  {
   "cell_type": "markdown",
   "metadata": {},
   "source": [
    "#### Variable Data types"
   ]
  },
  {
   "cell_type": "code",
   "execution_count": 15,
   "metadata": {
    "colab": {
     "base_uri": "https://localhost:8080/",
     "height": 827
    },
    "colab_type": "code",
    "id": "IootiY1IMnzM",
    "outputId": "f6d0b790-3794-4a70-99a8-d2a6cd2ec72e"
   },
   "outputs": [
    {
     "data": {
      "text/plain": [
       "id                           int64\n",
       "loan_amnt                    int64\n",
       "funded_amnt                  int64\n",
       "funded_amnt_inv            float64\n",
       "term                        object\n",
       "int_rate                    object\n",
       "installment                float64\n",
       "grade                       object\n",
       "sub_grade                   object\n",
       "emp_length                  object\n",
       "home_ownership              object\n",
       "annual_inc                 float64\n",
       "verification_status         object\n",
       "issue_d                     object\n",
       "loan_status                 object\n",
       "purpose                     object\n",
       "zip_code                    object\n",
       "addr_state                  object\n",
       "dti                        float64\n",
       "delinq_2yrs                  int64\n",
       "earliest_cr_line            object\n",
       "inq_last_6mths               int64\n",
       "open_acc                     int64\n",
       "pub_rec                      int64\n",
       "revol_bal                    int64\n",
       "revol_util                  object\n",
       "total_acc                    int64\n",
       "out_prncp                  float64\n",
       "out_prncp_inv              float64\n",
       "total_pymnt                float64\n",
       "total_pymnt_inv            float64\n",
       "total_rec_prncp            float64\n",
       "total_rec_int              float64\n",
       "total_rec_late_fee         float64\n",
       "recoveries                 float64\n",
       "collection_recovery_fee    float64\n",
       "last_pymnt_d                object\n",
       "last_pymnt_amnt            float64\n",
       "last_credit_pull_d          object\n",
       "pub_rec_bankruptcies       float64\n",
       "dtype: object"
      ]
     },
     "execution_count": 15,
     "metadata": {},
     "output_type": "execute_result"
    }
   ],
   "source": [
    "data.dtypes"
   ]
  },
  {
   "cell_type": "markdown",
   "metadata": {
    "colab_type": "text",
    "id": "3dkUg2SCMnzP"
   },
   "source": [
    "**int_rate and revol_util** are having % values and having data type of object. Let's remove % at the end and convert to float"
   ]
  },
  {
   "cell_type": "code",
   "execution_count": 16,
   "metadata": {
    "colab": {},
    "colab_type": "code",
    "id": "MgOpvmE_MnzP"
   },
   "outputs": [],
   "source": [
    "#stripping % value\n",
    "data.int_rate = data.int_rate.str.strip('%')\n",
    "data['int_rate'] = data.int_rate.astype(float)\n",
    "\n",
    "data.revol_util = data.revol_util.str.strip('%')\n",
    "data['revol_util'] = data.revol_util.astype(float)"
   ]
  },
  {
   "cell_type": "markdown",
   "metadata": {
    "colab_type": "text",
    "id": "8yCAg8vdMnzS"
   },
   "source": [
    "**issue_d, earliest_cr_line, last_pymnt_d, last_credit_pull_d** are having date values, let convert column data type to date."
   ]
  },
  {
   "cell_type": "code",
   "execution_count": 17,
   "metadata": {
    "colab": {},
    "colab_type": "code",
    "id": "X11CgMzAMnzS"
   },
   "outputs": [],
   "source": [
    "#converting to date type\n",
    "data['issue_d'] = pd.to_datetime(data.issue_d, format='%b-%y')\n",
    "#if there are any data before unix timestamp they are converted to 21 century values, \n",
    "#so subtracting values more than 2020  with 100 will give more actual time\n",
    "data['issue_d'] = data['issue_d'].apply(lambda x: x-pd.DateOffset(years=100) if x.year > 2020 else x)\n",
    "\n",
    "data['earliest_cr_line'] = pd.to_datetime(data.earliest_cr_line, format='%b-%y')\n",
    "data['earliest_cr_line'] = data['earliest_cr_line'].apply(lambda x: x-pd.DateOffset(years=100) if x.year > 2020 else x)\n",
    "\n",
    "data['last_pymnt_d'] = pd.to_datetime(data.last_pymnt_d, format='%b-%y')\n",
    "data['last_pymnt_d'] = data['last_pymnt_d'].apply(lambda x: x-pd.DateOffset(years=100) if x.year > 2020 else x)\n",
    "\n",
    "data['last_credit_pull_d'] = pd.to_datetime(data.last_credit_pull_d, format='%b-%y')\n",
    "data['last_credit_pull_d'] = data['last_credit_pull_d'].apply(lambda x: x-pd.DateOffset(years=100) if x.year > 2020 else x)"
   ]
  },
  {
   "cell_type": "code",
   "execution_count": 18,
   "metadata": {
    "colab": {},
    "colab_type": "code",
    "id": "VBbWKWLdMnzV",
    "outputId": "a2cfc0af-2f93-48ae-dd37-38823e9c69d8"
   },
   "outputs": [
    {
     "data": {
      "text/plain": [
       "id                                  int64\n",
       "loan_amnt                           int64\n",
       "funded_amnt                         int64\n",
       "funded_amnt_inv                   float64\n",
       "term                               object\n",
       "int_rate                          float64\n",
       "installment                       float64\n",
       "grade                              object\n",
       "sub_grade                          object\n",
       "emp_length                         object\n",
       "home_ownership                     object\n",
       "annual_inc                        float64\n",
       "verification_status                object\n",
       "issue_d                    datetime64[ns]\n",
       "loan_status                        object\n",
       "purpose                            object\n",
       "zip_code                           object\n",
       "addr_state                         object\n",
       "dti                               float64\n",
       "delinq_2yrs                         int64\n",
       "earliest_cr_line           datetime64[ns]\n",
       "inq_last_6mths                      int64\n",
       "open_acc                            int64\n",
       "pub_rec                             int64\n",
       "revol_bal                           int64\n",
       "revol_util                        float64\n",
       "total_acc                           int64\n",
       "out_prncp                         float64\n",
       "out_prncp_inv                     float64\n",
       "total_pymnt                       float64\n",
       "total_pymnt_inv                   float64\n",
       "total_rec_prncp                   float64\n",
       "total_rec_int                     float64\n",
       "total_rec_late_fee                float64\n",
       "recoveries                        float64\n",
       "collection_recovery_fee           float64\n",
       "last_pymnt_d               datetime64[ns]\n",
       "last_pymnt_amnt                   float64\n",
       "last_credit_pull_d         datetime64[ns]\n",
       "pub_rec_bankruptcies              float64\n",
       "dtype: object"
      ]
     },
     "execution_count": 18,
     "metadata": {},
     "output_type": "execute_result"
    }
   ],
   "source": [
    "data.dtypes"
   ]
  },
  {
   "cell_type": "markdown",
   "metadata": {},
   "source": [
    "## New Feature Columns"
   ]
  },
  {
   "cell_type": "markdown",
   "metadata": {},
   "source": [
    "Let's create new columns from date type columns"
   ]
  },
  {
   "cell_type": "code",
   "execution_count": 19,
   "metadata": {},
   "outputs": [],
   "source": [
    "#issue_d column\n",
    "data['issue_d_year'] = data.issue_d.dt.year\n",
    "data['issue_d_month'] = data.issue_d.dt.strftime('%b')\n",
    "data['issue_d_weekday'] = data.issue_d.dt.weekday\n",
    "#data type conversion of year and weekday\n",
    "data['issue_d_year'] = data['issue_d_year'].astype(object)\n",
    "data['issue_d_weekday'] = data['issue_d_weekday'].astype(object)\n",
    "\n",
    "#earliest_cr_line\n",
    "data['earliest_cr_line_year'] = data.earliest_cr_line.dt.year\n",
    "data['earliest_cr_line_month'] = data.earliest_cr_line.dt.strftime('%b')\n",
    "data['earliest_cr_line_weekday'] = data.earliest_cr_line.dt.weekday\n",
    "#data type conversion of year and weekday\n",
    "data['earliest_cr_line_year'] = data['earliest_cr_line_year'].astype(object)\n",
    "data['earliest_cr_line_weekday'] = data['earliest_cr_line_weekday'].astype(object)\n",
    "\n",
    "#last_pymnt_d column\n",
    "data['last_pymnt_d_year'] = data.last_pymnt_d.dt.year\n",
    "data['last_pymnt_d_month'] = data.last_pymnt_d.dt.strftime('%b')\n",
    "data['last_pymnt_d_weekday'] = data.last_pymnt_d.dt.weekday\n",
    "#data type conversion of year and weekday\n",
    "data['last_pymnt_d_year'] = data['last_pymnt_d_year'].astype(object)\n",
    "data['last_pymnt_d_weekday'] = data['last_pymnt_d_weekday'].astype(object)\n",
    "\n",
    "#last_credit_pull_d column\n",
    "data['last_credit_pull_d_year'] = data.last_credit_pull_d.dt.year\n",
    "data['last_credit_pull_d_month'] = data.last_credit_pull_d.dt.strftime('%b')\n",
    "data['last_credit_pull_d_weekday'] = data.last_credit_pull_d.dt.weekday\n",
    "#data type conversion of year and weekday\n",
    "data['last_credit_pull_d_year'] = data['last_credit_pull_d_year'].astype(object)\n",
    "data['last_credit_pull_d_weekday'] = data['last_credit_pull_d_weekday'].astype(object)"
   ]
  },
  {
   "cell_type": "code",
   "execution_count": 20,
   "metadata": {},
   "outputs": [
    {
     "data": {
      "text/html": [
       "<div>\n",
       "<style scoped>\n",
       "    .dataframe tbody tr th:only-of-type {\n",
       "        vertical-align: middle;\n",
       "    }\n",
       "\n",
       "    .dataframe tbody tr th {\n",
       "        vertical-align: top;\n",
       "    }\n",
       "\n",
       "    .dataframe thead th {\n",
       "        text-align: right;\n",
       "    }\n",
       "</style>\n",
       "<table border=\"1\" class=\"dataframe\">\n",
       "  <thead>\n",
       "    <tr style=\"text-align: right;\">\n",
       "      <th></th>\n",
       "      <th>id</th>\n",
       "      <th>loan_amnt</th>\n",
       "      <th>funded_amnt</th>\n",
       "      <th>funded_amnt_inv</th>\n",
       "      <th>term</th>\n",
       "      <th>int_rate</th>\n",
       "      <th>installment</th>\n",
       "      <th>grade</th>\n",
       "      <th>sub_grade</th>\n",
       "      <th>emp_length</th>\n",
       "      <th>home_ownership</th>\n",
       "      <th>annual_inc</th>\n",
       "      <th>verification_status</th>\n",
       "      <th>issue_d</th>\n",
       "      <th>loan_status</th>\n",
       "      <th>purpose</th>\n",
       "      <th>zip_code</th>\n",
       "      <th>addr_state</th>\n",
       "      <th>dti</th>\n",
       "      <th>delinq_2yrs</th>\n",
       "      <th>earliest_cr_line</th>\n",
       "      <th>inq_last_6mths</th>\n",
       "      <th>open_acc</th>\n",
       "      <th>pub_rec</th>\n",
       "      <th>revol_bal</th>\n",
       "      <th>...</th>\n",
       "      <th>out_prncp</th>\n",
       "      <th>out_prncp_inv</th>\n",
       "      <th>total_pymnt</th>\n",
       "      <th>total_pymnt_inv</th>\n",
       "      <th>total_rec_prncp</th>\n",
       "      <th>total_rec_int</th>\n",
       "      <th>total_rec_late_fee</th>\n",
       "      <th>recoveries</th>\n",
       "      <th>collection_recovery_fee</th>\n",
       "      <th>last_pymnt_d</th>\n",
       "      <th>last_pymnt_amnt</th>\n",
       "      <th>last_credit_pull_d</th>\n",
       "      <th>pub_rec_bankruptcies</th>\n",
       "      <th>issue_d_year</th>\n",
       "      <th>issue_d_month</th>\n",
       "      <th>issue_d_weekday</th>\n",
       "      <th>earliest_cr_line_year</th>\n",
       "      <th>earliest_cr_line_month</th>\n",
       "      <th>earliest_cr_line_weekday</th>\n",
       "      <th>last_pymnt_d_year</th>\n",
       "      <th>last_pymnt_d_month</th>\n",
       "      <th>last_pymnt_d_weekday</th>\n",
       "      <th>last_credit_pull_d_year</th>\n",
       "      <th>last_credit_pull_d_month</th>\n",
       "      <th>last_credit_pull_d_weekday</th>\n",
       "    </tr>\n",
       "  </thead>\n",
       "  <tbody>\n",
       "    <tr>\n",
       "      <th>0</th>\n",
       "      <td>1077501</td>\n",
       "      <td>5000</td>\n",
       "      <td>5000</td>\n",
       "      <td>4975.00</td>\n",
       "      <td>36 months</td>\n",
       "      <td>10.65</td>\n",
       "      <td>162.87</td>\n",
       "      <td>B</td>\n",
       "      <td>B2</td>\n",
       "      <td>10+ years</td>\n",
       "      <td>RENT</td>\n",
       "      <td>24000.00</td>\n",
       "      <td>Verified</td>\n",
       "      <td>2011-12-01</td>\n",
       "      <td>Fully Paid</td>\n",
       "      <td>credit_card</td>\n",
       "      <td>860xx</td>\n",
       "      <td>AZ</td>\n",
       "      <td>27.65</td>\n",
       "      <td>0</td>\n",
       "      <td>1985-01-01</td>\n",
       "      <td>1</td>\n",
       "      <td>3</td>\n",
       "      <td>0</td>\n",
       "      <td>13648</td>\n",
       "      <td>...</td>\n",
       "      <td>0.00</td>\n",
       "      <td>0.00</td>\n",
       "      <td>5863.16</td>\n",
       "      <td>5833.84</td>\n",
       "      <td>5000.00</td>\n",
       "      <td>863.16</td>\n",
       "      <td>0.00</td>\n",
       "      <td>0.00</td>\n",
       "      <td>0.00</td>\n",
       "      <td>2015-01-01</td>\n",
       "      <td>171.62</td>\n",
       "      <td>2016-05-01</td>\n",
       "      <td>0.00</td>\n",
       "      <td>2011</td>\n",
       "      <td>Dec</td>\n",
       "      <td>3</td>\n",
       "      <td>1985</td>\n",
       "      <td>Jan</td>\n",
       "      <td>1</td>\n",
       "      <td>2015</td>\n",
       "      <td>Jan</td>\n",
       "      <td>3</td>\n",
       "      <td>2016</td>\n",
       "      <td>May</td>\n",
       "      <td>6</td>\n",
       "    </tr>\n",
       "    <tr>\n",
       "      <th>1</th>\n",
       "      <td>1077430</td>\n",
       "      <td>2500</td>\n",
       "      <td>2500</td>\n",
       "      <td>2500.00</td>\n",
       "      <td>60 months</td>\n",
       "      <td>15.27</td>\n",
       "      <td>59.83</td>\n",
       "      <td>C</td>\n",
       "      <td>C4</td>\n",
       "      <td>&lt; 1 year</td>\n",
       "      <td>RENT</td>\n",
       "      <td>30000.00</td>\n",
       "      <td>Source Verified</td>\n",
       "      <td>2011-12-01</td>\n",
       "      <td>Charged Off</td>\n",
       "      <td>car</td>\n",
       "      <td>309xx</td>\n",
       "      <td>GA</td>\n",
       "      <td>1.00</td>\n",
       "      <td>0</td>\n",
       "      <td>1999-04-01</td>\n",
       "      <td>5</td>\n",
       "      <td>3</td>\n",
       "      <td>0</td>\n",
       "      <td>1687</td>\n",
       "      <td>...</td>\n",
       "      <td>0.00</td>\n",
       "      <td>0.00</td>\n",
       "      <td>1008.71</td>\n",
       "      <td>1008.71</td>\n",
       "      <td>456.46</td>\n",
       "      <td>435.17</td>\n",
       "      <td>0.00</td>\n",
       "      <td>117.08</td>\n",
       "      <td>1.11</td>\n",
       "      <td>2013-04-01</td>\n",
       "      <td>119.66</td>\n",
       "      <td>2013-09-01</td>\n",
       "      <td>0.00</td>\n",
       "      <td>2011</td>\n",
       "      <td>Dec</td>\n",
       "      <td>3</td>\n",
       "      <td>1999</td>\n",
       "      <td>Apr</td>\n",
       "      <td>3</td>\n",
       "      <td>2013</td>\n",
       "      <td>Apr</td>\n",
       "      <td>0</td>\n",
       "      <td>2013</td>\n",
       "      <td>Sep</td>\n",
       "      <td>6</td>\n",
       "    </tr>\n",
       "    <tr>\n",
       "      <th>2</th>\n",
       "      <td>1077175</td>\n",
       "      <td>2400</td>\n",
       "      <td>2400</td>\n",
       "      <td>2400.00</td>\n",
       "      <td>36 months</td>\n",
       "      <td>15.96</td>\n",
       "      <td>84.33</td>\n",
       "      <td>C</td>\n",
       "      <td>C5</td>\n",
       "      <td>10+ years</td>\n",
       "      <td>RENT</td>\n",
       "      <td>12252.00</td>\n",
       "      <td>Not Verified</td>\n",
       "      <td>2011-12-01</td>\n",
       "      <td>Fully Paid</td>\n",
       "      <td>small_business</td>\n",
       "      <td>606xx</td>\n",
       "      <td>IL</td>\n",
       "      <td>8.72</td>\n",
       "      <td>0</td>\n",
       "      <td>2001-11-01</td>\n",
       "      <td>2</td>\n",
       "      <td>2</td>\n",
       "      <td>0</td>\n",
       "      <td>2956</td>\n",
       "      <td>...</td>\n",
       "      <td>0.00</td>\n",
       "      <td>0.00</td>\n",
       "      <td>3005.67</td>\n",
       "      <td>3005.67</td>\n",
       "      <td>2400.00</td>\n",
       "      <td>605.67</td>\n",
       "      <td>0.00</td>\n",
       "      <td>0.00</td>\n",
       "      <td>0.00</td>\n",
       "      <td>2014-06-01</td>\n",
       "      <td>649.91</td>\n",
       "      <td>2016-05-01</td>\n",
       "      <td>0.00</td>\n",
       "      <td>2011</td>\n",
       "      <td>Dec</td>\n",
       "      <td>3</td>\n",
       "      <td>2001</td>\n",
       "      <td>Nov</td>\n",
       "      <td>3</td>\n",
       "      <td>2014</td>\n",
       "      <td>Jun</td>\n",
       "      <td>6</td>\n",
       "      <td>2016</td>\n",
       "      <td>May</td>\n",
       "      <td>6</td>\n",
       "    </tr>\n",
       "    <tr>\n",
       "      <th>3</th>\n",
       "      <td>1076863</td>\n",
       "      <td>10000</td>\n",
       "      <td>10000</td>\n",
       "      <td>10000.00</td>\n",
       "      <td>36 months</td>\n",
       "      <td>13.49</td>\n",
       "      <td>339.31</td>\n",
       "      <td>C</td>\n",
       "      <td>C1</td>\n",
       "      <td>10+ years</td>\n",
       "      <td>RENT</td>\n",
       "      <td>49200.00</td>\n",
       "      <td>Source Verified</td>\n",
       "      <td>2011-12-01</td>\n",
       "      <td>Fully Paid</td>\n",
       "      <td>other</td>\n",
       "      <td>917xx</td>\n",
       "      <td>CA</td>\n",
       "      <td>20.00</td>\n",
       "      <td>0</td>\n",
       "      <td>1996-02-01</td>\n",
       "      <td>1</td>\n",
       "      <td>10</td>\n",
       "      <td>0</td>\n",
       "      <td>5598</td>\n",
       "      <td>...</td>\n",
       "      <td>0.00</td>\n",
       "      <td>0.00</td>\n",
       "      <td>12231.89</td>\n",
       "      <td>12231.89</td>\n",
       "      <td>10000.00</td>\n",
       "      <td>2214.92</td>\n",
       "      <td>16.97</td>\n",
       "      <td>0.00</td>\n",
       "      <td>0.00</td>\n",
       "      <td>2015-01-01</td>\n",
       "      <td>357.48</td>\n",
       "      <td>2016-04-01</td>\n",
       "      <td>0.00</td>\n",
       "      <td>2011</td>\n",
       "      <td>Dec</td>\n",
       "      <td>3</td>\n",
       "      <td>1996</td>\n",
       "      <td>Feb</td>\n",
       "      <td>3</td>\n",
       "      <td>2015</td>\n",
       "      <td>Jan</td>\n",
       "      <td>3</td>\n",
       "      <td>2016</td>\n",
       "      <td>Apr</td>\n",
       "      <td>4</td>\n",
       "    </tr>\n",
       "    <tr>\n",
       "      <th>4</th>\n",
       "      <td>1075358</td>\n",
       "      <td>3000</td>\n",
       "      <td>3000</td>\n",
       "      <td>3000.00</td>\n",
       "      <td>60 months</td>\n",
       "      <td>12.69</td>\n",
       "      <td>67.79</td>\n",
       "      <td>B</td>\n",
       "      <td>B5</td>\n",
       "      <td>1 year</td>\n",
       "      <td>RENT</td>\n",
       "      <td>80000.00</td>\n",
       "      <td>Source Verified</td>\n",
       "      <td>2011-12-01</td>\n",
       "      <td>Current</td>\n",
       "      <td>other</td>\n",
       "      <td>972xx</td>\n",
       "      <td>OR</td>\n",
       "      <td>17.94</td>\n",
       "      <td>0</td>\n",
       "      <td>1996-01-01</td>\n",
       "      <td>0</td>\n",
       "      <td>15</td>\n",
       "      <td>0</td>\n",
       "      <td>27783</td>\n",
       "      <td>...</td>\n",
       "      <td>524.06</td>\n",
       "      <td>524.06</td>\n",
       "      <td>3513.33</td>\n",
       "      <td>3513.33</td>\n",
       "      <td>2475.94</td>\n",
       "      <td>1037.39</td>\n",
       "      <td>0.00</td>\n",
       "      <td>0.00</td>\n",
       "      <td>0.00</td>\n",
       "      <td>2016-05-01</td>\n",
       "      <td>67.79</td>\n",
       "      <td>2016-05-01</td>\n",
       "      <td>0.00</td>\n",
       "      <td>2011</td>\n",
       "      <td>Dec</td>\n",
       "      <td>3</td>\n",
       "      <td>1996</td>\n",
       "      <td>Jan</td>\n",
       "      <td>0</td>\n",
       "      <td>2016</td>\n",
       "      <td>May</td>\n",
       "      <td>6</td>\n",
       "      <td>2016</td>\n",
       "      <td>May</td>\n",
       "      <td>6</td>\n",
       "    </tr>\n",
       "  </tbody>\n",
       "</table>\n",
       "<p>5 rows × 52 columns</p>\n",
       "</div>"
      ],
      "text/plain": [
       "        id  loan_amnt  funded_amnt  funded_amnt_inv        term  int_rate  \\\n",
       "0  1077501       5000         5000          4975.00   36 months     10.65   \n",
       "1  1077430       2500         2500          2500.00   60 months     15.27   \n",
       "2  1077175       2400         2400          2400.00   36 months     15.96   \n",
       "3  1076863      10000        10000         10000.00   36 months     13.49   \n",
       "4  1075358       3000         3000          3000.00   60 months     12.69   \n",
       "\n",
       "   installment grade sub_grade emp_length home_ownership  annual_inc  \\\n",
       "0       162.87     B        B2  10+ years           RENT    24000.00   \n",
       "1        59.83     C        C4   < 1 year           RENT    30000.00   \n",
       "2        84.33     C        C5  10+ years           RENT    12252.00   \n",
       "3       339.31     C        C1  10+ years           RENT    49200.00   \n",
       "4        67.79     B        B5     1 year           RENT    80000.00   \n",
       "\n",
       "  verification_status    issue_d  loan_status         purpose zip_code  \\\n",
       "0            Verified 2011-12-01   Fully Paid     credit_card    860xx   \n",
       "1     Source Verified 2011-12-01  Charged Off             car    309xx   \n",
       "2        Not Verified 2011-12-01   Fully Paid  small_business    606xx   \n",
       "3     Source Verified 2011-12-01   Fully Paid           other    917xx   \n",
       "4     Source Verified 2011-12-01      Current           other    972xx   \n",
       "\n",
       "  addr_state   dti  delinq_2yrs earliest_cr_line  inq_last_6mths  open_acc  \\\n",
       "0         AZ 27.65            0       1985-01-01               1         3   \n",
       "1         GA  1.00            0       1999-04-01               5         3   \n",
       "2         IL  8.72            0       2001-11-01               2         2   \n",
       "3         CA 20.00            0       1996-02-01               1        10   \n",
       "4         OR 17.94            0       1996-01-01               0        15   \n",
       "\n",
       "   pub_rec  revol_bal  ...  out_prncp  out_prncp_inv  total_pymnt  \\\n",
       "0        0      13648  ...       0.00           0.00      5863.16   \n",
       "1        0       1687  ...       0.00           0.00      1008.71   \n",
       "2        0       2956  ...       0.00           0.00      3005.67   \n",
       "3        0       5598  ...       0.00           0.00     12231.89   \n",
       "4        0      27783  ...     524.06         524.06      3513.33   \n",
       "\n",
       "   total_pymnt_inv  total_rec_prncp  total_rec_int  total_rec_late_fee  \\\n",
       "0          5833.84          5000.00         863.16                0.00   \n",
       "1          1008.71           456.46         435.17                0.00   \n",
       "2          3005.67          2400.00         605.67                0.00   \n",
       "3         12231.89         10000.00        2214.92               16.97   \n",
       "4          3513.33          2475.94        1037.39                0.00   \n",
       "\n",
       "   recoveries  collection_recovery_fee  last_pymnt_d  last_pymnt_amnt  \\\n",
       "0        0.00                     0.00    2015-01-01           171.62   \n",
       "1      117.08                     1.11    2013-04-01           119.66   \n",
       "2        0.00                     0.00    2014-06-01           649.91   \n",
       "3        0.00                     0.00    2015-01-01           357.48   \n",
       "4        0.00                     0.00    2016-05-01            67.79   \n",
       "\n",
       "  last_credit_pull_d  pub_rec_bankruptcies issue_d_year  issue_d_month  \\\n",
       "0         2016-05-01                  0.00         2011            Dec   \n",
       "1         2013-09-01                  0.00         2011            Dec   \n",
       "2         2016-05-01                  0.00         2011            Dec   \n",
       "3         2016-04-01                  0.00         2011            Dec   \n",
       "4         2016-05-01                  0.00         2011            Dec   \n",
       "\n",
       "  issue_d_weekday earliest_cr_line_year earliest_cr_line_month  \\\n",
       "0               3                  1985                    Jan   \n",
       "1               3                  1999                    Apr   \n",
       "2               3                  2001                    Nov   \n",
       "3               3                  1996                    Feb   \n",
       "4               3                  1996                    Jan   \n",
       "\n",
       "  earliest_cr_line_weekday last_pymnt_d_year last_pymnt_d_month  \\\n",
       "0                        1              2015                Jan   \n",
       "1                        3              2013                Apr   \n",
       "2                        3              2014                Jun   \n",
       "3                        3              2015                Jan   \n",
       "4                        0              2016                May   \n",
       "\n",
       "  last_pymnt_d_weekday last_credit_pull_d_year last_credit_pull_d_month  \\\n",
       "0                    3                    2016                      May   \n",
       "1                    0                    2013                      Sep   \n",
       "2                    6                    2016                      May   \n",
       "3                    3                    2016                      Apr   \n",
       "4                    6                    2016                      May   \n",
       "\n",
       "  last_credit_pull_d_weekday  \n",
       "0                          6  \n",
       "1                          6  \n",
       "2                          6  \n",
       "3                          4  \n",
       "4                          6  \n",
       "\n",
       "[5 rows x 52 columns]"
      ]
     },
     "execution_count": 20,
     "metadata": {},
     "output_type": "execute_result"
    }
   ],
   "source": [
    "data.head()"
   ]
  },
  {
   "cell_type": "code",
   "execution_count": 21,
   "metadata": {},
   "outputs": [
    {
     "data": {
      "text/plain": [
       "id                                     int64\n",
       "loan_amnt                              int64\n",
       "funded_amnt                            int64\n",
       "funded_amnt_inv                      float64\n",
       "term                                  object\n",
       "int_rate                             float64\n",
       "installment                          float64\n",
       "grade                                 object\n",
       "sub_grade                             object\n",
       "emp_length                            object\n",
       "home_ownership                        object\n",
       "annual_inc                           float64\n",
       "verification_status                   object\n",
       "issue_d                       datetime64[ns]\n",
       "loan_status                           object\n",
       "purpose                               object\n",
       "zip_code                              object\n",
       "addr_state                            object\n",
       "dti                                  float64\n",
       "delinq_2yrs                            int64\n",
       "earliest_cr_line              datetime64[ns]\n",
       "inq_last_6mths                         int64\n",
       "open_acc                               int64\n",
       "pub_rec                                int64\n",
       "revol_bal                              int64\n",
       "revol_util                           float64\n",
       "total_acc                              int64\n",
       "out_prncp                            float64\n",
       "out_prncp_inv                        float64\n",
       "total_pymnt                          float64\n",
       "total_pymnt_inv                      float64\n",
       "total_rec_prncp                      float64\n",
       "total_rec_int                        float64\n",
       "total_rec_late_fee                   float64\n",
       "recoveries                           float64\n",
       "collection_recovery_fee              float64\n",
       "last_pymnt_d                  datetime64[ns]\n",
       "last_pymnt_amnt                      float64\n",
       "last_credit_pull_d            datetime64[ns]\n",
       "pub_rec_bankruptcies                 float64\n",
       "issue_d_year                          object\n",
       "issue_d_month                         object\n",
       "issue_d_weekday                       object\n",
       "earliest_cr_line_year                 object\n",
       "earliest_cr_line_month                object\n",
       "earliest_cr_line_weekday              object\n",
       "last_pymnt_d_year                     object\n",
       "last_pymnt_d_month                    object\n",
       "last_pymnt_d_weekday                  object\n",
       "last_credit_pull_d_year               object\n",
       "last_credit_pull_d_month              object\n",
       "last_credit_pull_d_weekday            object\n",
       "dtype: object"
      ]
     },
     "execution_count": 21,
     "metadata": {},
     "output_type": "execute_result"
    }
   ],
   "source": [
    "data.dtypes"
   ]
  },
  {
   "cell_type": "markdown",
   "metadata": {
    "colab_type": "text",
    "id": "lP5Vlk4nMnze"
   },
   "source": [
    "## Univariate Analysis"
   ]
  },
  {
   "cell_type": "markdown",
   "metadata": {
    "colab_type": "text",
    "id": "n2skazwiMnzf"
   },
   "source": [
    "### Loan Amount"
   ]
  },
  {
   "cell_type": "code",
   "execution_count": 22,
   "metadata": {
    "colab": {},
    "colab_type": "code",
    "id": "WpLYio-VMnzf",
    "outputId": "c9a8661f-43f6-4e11-ce07-2d86a3c21cdd"
   },
   "outputs": [
    {
     "data": {
      "image/png": "[encoded data removed]",
      "text/plain": [
       "<Figure size 864x288 with 2 Axes>"
      ]
     },
     "metadata": {
      "needs_background": "light"
     },
     "output_type": "display_data"
    }
   ],
   "source": [
    "plt.figure(figsize=(12,4))\n",
    "plt.subplot(1,2,1)\n",
    "sns.distplot(a=data.loan_amnt, rug=True)\n",
    "plt.subplot(1,2,2)\n",
    "sns.boxplot(data=data.loan_amnt)\n",
    "plt.suptitle('Loan Amount distribution')\n",
    "plt.show()"
   ]
  },
  {
   "cell_type": "markdown",
   "metadata": {
    "colab_type": "text",
    "id": "4IA-j8odMnzi"
   },
   "source": [
    "From the above plots, more number of people took loan amount of 10000, and also meadian of distribution is 10000. And very few people took more than 30000 loan amount."
   ]
  },
  {
   "cell_type": "code",
   "execution_count": 23,
   "metadata": {
    "colab": {},
    "colab_type": "code",
    "id": "7GFW-pEKMnzi",
    "outputId": "ffa70672-47e6-4974-8f6a-d235d2a595c1"
   },
   "outputs": [
    {
     "data": {
      "text/plain": [
       "count   37835.00\n",
       "mean    11328.32\n",
       "std      7477.23\n",
       "min       500.00\n",
       "5%       2400.00\n",
       "10%      3250.00\n",
       "25%      5600.00\n",
       "50%     10000.00\n",
       "75%     15000.00\n",
       "90%     22445.00\n",
       "95%     25000.00\n",
       "99%     35000.00\n",
       "max     35000.00\n",
       "Name: loan_amnt, dtype: float64"
      ]
     },
     "execution_count": 23,
     "metadata": {},
     "output_type": "execute_result"
    }
   ],
   "source": [
    "data.loan_amnt.describe(percentiles=[0.05,0.1,0.25,0.5,0.75,0.9,0.95,0.99])"
   ]
  },
  {
   "cell_type": "code",
   "execution_count": 24,
   "metadata": {
    "colab": {},
    "colab_type": "code",
    "id": "0X-nP122Mnzk",
    "outputId": "ad53e496-e34d-4d90-873c-6658dc43dd4e"
   },
   "outputs": [
    {
     "data": {
      "text/plain": [
       "1211"
      ]
     },
     "execution_count": 24,
     "metadata": {},
     "output_type": "execute_result"
    }
   ],
   "source": [
    "iqr = data.loan_amnt.quantile(0.75) - data.loan_amnt.quantile(0.25)\n",
    "#no of outliers at right side\n",
    "outlier_val = data.loan_amnt.quantile(0.75) + 1.5*iqr\n",
    "(data.loan_amnt > outlier_val).sum()"
   ]
  },
  {
   "cell_type": "code",
   "execution_count": 25,
   "metadata": {
    "colab": {},
    "colab_type": "code",
    "id": "67fKsNngMnzn",
    "outputId": "32ee3631-04f7-4f53-b0ca-c86a63cc3c5a"
   },
   "outputs": [],
   "source": [
    "#Outlier removal\n",
    "#data = data[data.loan_amnt <= outlier_val]\n",
    "#data.shape"
   ]
  },
  {
   "cell_type": "markdown",
   "metadata": {
    "colab_type": "text",
    "id": "FGhVZw1pMnzq"
   },
   "source": [
    "### funded_amnt\n",
    "The total amount committed to that loan at that point in time."
   ]
  },
  {
   "cell_type": "code",
   "execution_count": 26,
   "metadata": {
    "colab": {},
    "colab_type": "code",
    "id": "P362aYgIMnzq",
    "outputId": "ae82d1da-3173-4344-cacc-57ca9f5124d0"
   },
   "outputs": [
    {
     "data": {
      "image/png": "[encoded data removed]",
      "text/plain": [
       "<Figure size 864x288 with 2 Axes>"
      ]
     },
     "metadata": {
      "needs_background": "light"
     },
     "output_type": "display_data"
    }
   ],
   "source": [
    "plt.figure(figsize=(12,4))\n",
    "plt.subplot(1,2,1)\n",
    "sns.distplot(a=data.funded_amnt, rug=True)\n",
    "plt.subplot(1,2,2)\n",
    "sns.boxplot(data=data.funded_amnt)\n",
    "plt.suptitle('Funded Amount distribution')\n",
    "plt.show()"
   ]
  },
  {
   "cell_type": "markdown",
   "metadata": {
    "colab_type": "text",
    "id": "6y52zYCzMnzs"
   },
   "source": [
    "funded amount data behaves exactly same to loan Amount"
   ]
  },
  {
   "cell_type": "code",
   "execution_count": 27,
   "metadata": {
    "colab": {},
    "colab_type": "code",
    "id": "A5QUES6CMnzv",
    "outputId": "b8c79f17-5521-4dba-8b2a-323e3d90ee5f"
   },
   "outputs": [
    {
     "data": {
      "text/plain": [
       "count   37835.00\n",
       "mean    11050.28\n",
       "std      7204.85\n",
       "min       500.00\n",
       "5%       2400.00\n",
       "10%      3250.00\n",
       "25%      5500.00\n",
       "50%     10000.00\n",
       "75%     15000.00\n",
       "90%     21000.00\n",
       "95%     25000.00\n",
       "99%     35000.00\n",
       "max     35000.00\n",
       "Name: funded_amnt, dtype: float64"
      ]
     },
     "execution_count": 27,
     "metadata": {},
     "output_type": "execute_result"
    }
   ],
   "source": [
    "data.funded_amnt.describe(percentiles=[0.05,0.1,0.25,0.5,0.75,0.9,0.95,0.99])"
   ]
  },
  {
   "cell_type": "code",
   "execution_count": 28,
   "metadata": {
    "colab": {},
    "colab_type": "code",
    "id": "L8yyfZSTMnzx",
    "outputId": "f18e5cb1-e7d2-4ce6-dc34-3663158067f2"
   },
   "outputs": [
    {
     "data": {
      "text/plain": [
       "1024"
      ]
     },
     "execution_count": 28,
     "metadata": {},
     "output_type": "execute_result"
    }
   ],
   "source": [
    "iqr = data.funded_amnt.quantile(0.75) - data.funded_amnt.quantile(0.25)\n",
    "#no of outliers at right side\n",
    "outlier_val = data.funded_amnt.quantile(0.75) + 1.5*iqr\n",
    "(data.funded_amnt > outlier_val).sum()"
   ]
  },
  {
   "cell_type": "code",
   "execution_count": 29,
   "metadata": {
    "colab": {},
    "colab_type": "code",
    "id": "8pj6ddjRMnz0",
    "outputId": "458dca91-2bfa-435e-f756-ff4aed5d73f8"
   },
   "outputs": [],
   "source": [
    "#Removing Outliers\n",
    "#data = data[data.funded_amnt <= outlier_val]\n",
    "#data.shape"
   ]
  },
  {
   "cell_type": "markdown",
   "metadata": {
    "colab_type": "text",
    "id": "FKPeaKNnMnz2"
   },
   "source": [
    "### funded_amnt_inv\n",
    "The total amount committed by investors for that loan at that point in time."
   ]
  },
  {
   "cell_type": "code",
   "execution_count": 30,
   "metadata": {
    "colab": {},
    "colab_type": "code",
    "id": "zStVXfFRMnz3",
    "outputId": "3c86b8bf-c31e-4258-cb34-043d268221bb"
   },
   "outputs": [
    {
     "data": {
      "image/png": "[encoded data removed]",
      "text/plain": [
       "<Figure size 864x288 with 2 Axes>"
      ]
     },
     "metadata": {
      "needs_background": "light"
     },
     "output_type": "display_data"
    }
   ],
   "source": [
    "plt.figure(figsize=(12,4))\n",
    "plt.subplot(1,2,1)\n",
    "sns.distplot(a=data.funded_amnt_inv, rug=True)\n",
    "plt.subplot(1,2,2)\n",
    "sns.boxplot(data=data.funded_amnt_inv)\n",
    "plt.suptitle('Funded Amount Invested distribution')\n",
    "plt.show()"
   ]
  },
  {
   "cell_type": "code",
   "execution_count": 31,
   "metadata": {
    "colab": {},
    "colab_type": "code",
    "id": "zRzN-ixLMnz7",
    "outputId": "6b1d1d56-15a3-451b-b5fc-5eefe635653b"
   },
   "outputs": [
    {
     "data": {
      "text/plain": [
       "count   37835.00\n",
       "mean    10618.10\n",
       "std      7113.09\n",
       "min         0.00\n",
       "5%       2000.00\n",
       "10%      3000.00\n",
       "25%      5000.00\n",
       "50%      9200.00\n",
       "75%     14602.60\n",
       "90%     20000.00\n",
       "95%     24783.27\n",
       "99%     34750.00\n",
       "max     35000.00\n",
       "Name: funded_amnt_inv, dtype: float64"
      ]
     },
     "execution_count": 31,
     "metadata": {},
     "output_type": "execute_result"
    }
   ],
   "source": [
    "data.funded_amnt_inv.describe(percentiles=[0.05,0.1,0.25,0.5,0.75,0.9,0.95,0.99])"
   ]
  },
  {
   "cell_type": "code",
   "execution_count": 32,
   "metadata": {
    "colab": {},
    "colab_type": "code",
    "id": "I-1MBvUGMnz9",
    "outputId": "91d5c47a-167e-46bf-9003-f7b7a545f1e6"
   },
   "outputs": [
    {
     "data": {
      "text/plain": [
       "948"
      ]
     },
     "execution_count": 32,
     "metadata": {},
     "output_type": "execute_result"
    }
   ],
   "source": [
    "iqr = data.funded_amnt_inv.quantile(0.75) - data.funded_amnt_inv.quantile(0.25)\n",
    "#no of outliers at right side\n",
    "outlier_val = data.funded_amnt_inv.quantile(0.75) + 1.5*iqr\n",
    "(data.funded_amnt_inv > outlier_val).sum()"
   ]
  },
  {
   "cell_type": "code",
   "execution_count": 33,
   "metadata": {
    "colab": {},
    "colab_type": "code",
    "id": "JPvILCdcMn0A",
    "outputId": "59e48a5f-2098-4914-ddb2-19c0b7015c0b"
   },
   "outputs": [],
   "source": [
    "#Outlier removing\n",
    "#data = data[data.funded_amnt_inv <= outlier_val]\n",
    "#data.shape"
   ]
  },
  {
   "cell_type": "markdown",
   "metadata": {
    "colab_type": "text",
    "id": "zpQAwyE5Mn1C"
   },
   "source": [
    "### Interest Rate"
   ]
  },
  {
   "cell_type": "code",
   "execution_count": 34,
   "metadata": {
    "colab": {},
    "colab_type": "code",
    "id": "eNZtCKMrMn1D",
    "outputId": "2e883f30-f7bd-4d10-92ab-33bf0a07aa1d"
   },
   "outputs": [
    {
     "data": {
      "text/plain": [
       "count   37835.00\n",
       "mean       12.07\n",
       "std         3.73\n",
       "min         5.42\n",
       "25%         9.32\n",
       "50%        11.86\n",
       "75%        14.61\n",
       "max        24.59\n",
       "Name: int_rate, dtype: float64"
      ]
     },
     "execution_count": 34,
     "metadata": {},
     "output_type": "execute_result"
    },
    {
     "data": {
      "image/png": "[encoded data removed]",
      "text/plain": [
       "<Figure size 864x288 with 2 Axes>"
      ]
     },
     "metadata": {
      "needs_background": "light"
     },
     "output_type": "display_data"
    }
   ],
   "source": [
    "plt.figure(figsize=(12,4))\n",
    "plt.subplot(1,2,1)\n",
    "sns.distplot(a=data.int_rate, rug=True)\n",
    "plt.subplot(1,2,2)\n",
    "sns.boxplot(data=data.int_rate)\n",
    "data.int_rate.describe()"
   ]
  },
  {
   "cell_type": "markdown",
   "metadata": {
    "colab_type": "text",
    "id": "51ppGETwMn1F"
   },
   "source": [
    "From the above 2 plots and statistics of interest rates we can conclude that most of the interest rates lies between **10% to 15%**. Some people took loan at higher rates of interest i.e., **22.5%**"
   ]
  },
  {
   "cell_type": "code",
   "execution_count": 35,
   "metadata": {
    "colab": {},
    "colab_type": "code",
    "id": "TAD-2MHBMn1F",
    "outputId": "c543bb98-9da3-4b8e-8b78-ce9b9c18aa80"
   },
   "outputs": [
    {
     "name": "stdout",
     "output_type": "stream",
     "text": [
      "78 ****Outliers right***\n"
     ]
    }
   ],
   "source": [
    "iqr = data.int_rate.quantile(0.75) - data.int_rate.quantile(0.25)\n",
    "outlier_val = data.int_rate.quantile(0.75) + (1.5*iqr)\n",
    "print((data.int_rate > outlier_val).sum(), '****Outliers right***')\n",
    "\n",
    "#data = data[data.int_rate <= outlier_val]\n",
    "#data.shape"
   ]
  },
  {
   "cell_type": "markdown",
   "metadata": {
    "colab_type": "text",
    "id": "ofzgXSDmMn0C"
   },
   "source": [
    "### Installment\n",
    "The monthly payment owed by the borrower if the loan originates."
   ]
  },
  {
   "cell_type": "code",
   "execution_count": 36,
   "metadata": {
    "colab": {},
    "colab_type": "code",
    "id": "SB7ce5McMn0D",
    "outputId": "bf708429-1fc9-4c37-f40c-e4b888d17d77"
   },
   "outputs": [
    {
     "data": {
      "image/png": "[encoded data removed]",
      "text/plain": [
       "<Figure size 864x288 with 2 Axes>"
      ]
     },
     "metadata": {
      "needs_background": "light"
     },
     "output_type": "display_data"
    }
   ],
   "source": [
    "installment = data.installment\n",
    "plt.figure(figsize=(12,4))\n",
    "plt.subplot(1,2,1)\n",
    "sns.distplot(a=installment, rug=True)\n",
    "plt.subplot(1,2,2)\n",
    "sns.boxplot(data=installment)\n",
    "plt.suptitle('Installment Amount distribution')\n",
    "plt.show()"
   ]
  },
  {
   "cell_type": "code",
   "execution_count": 37,
   "metadata": {},
   "outputs": [
    {
     "data": {
      "text/plain": [
       "count   37835.00\n",
       "mean      327.14\n",
       "std       209.09\n",
       "min        16.08\n",
       "5%         74.23\n",
       "10%       101.34\n",
       "25%       168.75\n",
       "50%       283.20\n",
       "75%       434.75\n",
       "90%       625.42\n",
       "95%       767.56\n",
       "99%       933.14\n",
       "max      1305.19\n",
       "Name: installment, dtype: float64"
      ]
     },
     "execution_count": 37,
     "metadata": {},
     "output_type": "execute_result"
    }
   ],
   "source": [
    "installment.describe(percentiles=[0.05,0.1,0.25,0.5,0.75,0.9,0.95,0.99])"
   ]
  },
  {
   "cell_type": "code",
   "execution_count": 38,
   "metadata": {},
   "outputs": [
    {
     "name": "stdout",
     "output_type": "stream",
     "text": [
      "*****Outlier Right****** 1137\n"
     ]
    }
   ],
   "source": [
    "iqr = installment.quantile(0.75) - installment.quantile(0.25)\n",
    "#no of outliers at right side\n",
    "outlier_val = installment.quantile(0.75) + 1.5*iqr\n",
    "print(\"*****Outlier Right******\", (installment > outlier_val).sum())\n",
    "\n",
    "#removing outliers\n",
    "#data = data[installment <= outlier_val]\n",
    "#data.shape"
   ]
  },
  {
   "cell_type": "markdown",
   "metadata": {
    "colab_type": "text",
    "id": "8xPxVdoHMn0F"
   },
   "source": [
    "# annual_inc\n",
    "The self-reported annual income provided by the borrower during registration."
   ]
  },
  {
   "cell_type": "code",
   "execution_count": 39,
   "metadata": {
    "colab": {},
    "colab_type": "code",
    "id": "Y-fDaBGTMn0G",
    "outputId": "d798bbcc-dc0f-4dba-d85e-a5bf968a35b5"
   },
   "outputs": [
    {
     "data": {
      "image/png": "[encoded data removed]",
      "text/plain": [
       "<Figure size 864x288 with 2 Axes>"
      ]
     },
     "metadata": {
      "needs_background": "light"
     },
     "output_type": "display_data"
    }
   ],
   "source": [
    "var1 = data.annual_inc\n",
    "plt.figure(figsize=(12,4))\n",
    "plt.subplot(1,2,1)\n",
    "sns.distplot(a=var1, rug=True)\n",
    "plt.subplot(1,2,2)\n",
    "sns.boxplot(data=var1)\n",
    "plt.suptitle('Annual income distribution')\n",
    "plt.show()"
   ]
  },
  {
   "cell_type": "code",
   "execution_count": 40,
   "metadata": {},
   "outputs": [
    {
     "data": {
      "text/plain": [
       "count     37835.00\n",
       "mean      69670.97\n",
       "std       63643.37\n",
       "min        4000.00\n",
       "5%        24678.00\n",
       "10%       30000.00\n",
       "25%       41886.00\n",
       "50%       60000.00\n",
       "75%       83500.00\n",
       "90%      117008.40\n",
       "95%      143650.00\n",
       "99%      235000.00\n",
       "max     6000000.00\n",
       "Name: annual_inc, dtype: float64"
      ]
     },
     "execution_count": 40,
     "metadata": {},
     "output_type": "execute_result"
    }
   ],
   "source": [
    "var1.describe(percentiles=[0.05,0.1,0.25,0.5,0.75,0.9,0.95,0.99])"
   ]
  },
  {
   "cell_type": "code",
   "execution_count": 41,
   "metadata": {},
   "outputs": [
    {
     "name": "stdout",
     "output_type": "stream",
     "text": [
      "1786 *****Outlier Right******\n"
     ]
    }
   ],
   "source": [
    "iqr = var1.quantile(0.75) - var1.quantile(0.25)\n",
    "#no of outliers at right side\n",
    "outlier_val = var1.quantile(0.75) + 1.5*iqr\n",
    "print((var1 > outlier_val).sum(), \"*****Outlier Right******\")\n",
    "\n",
    "#data = data[var1 <= outlier_val]\n",
    "#data.shape"
   ]
  },
  {
   "cell_type": "markdown",
   "metadata": {
    "colab_type": "text",
    "id": "lAgExjhuMn0I"
   },
   "source": [
    "# dti\n",
    "A ratio calculated using the borrower’s total monthly debt payments on the total debt obligations, excluding mortgage and the requested LC loan, divided by the borrower’s self-reported monthly income."
   ]
  },
  {
   "cell_type": "code",
   "execution_count": 42,
   "metadata": {
    "colab": {},
    "colab_type": "code",
    "id": "9_q7n_trMn0I",
    "outputId": "eaa32f8c-401f-43a6-b1f9-cb6ec41f52d5"
   },
   "outputs": [
    {
     "data": {
      "text/plain": [
       "<matplotlib.axes._subplots.AxesSubplot at 0x7fc56c1b5650>"
      ]
     },
     "execution_count": 42,
     "metadata": {},
     "output_type": "execute_result"
    },
    {
     "data": {
      "image/png": "[encoded data removed]",
      "text/plain": [
       "<Figure size 864x288 with 2 Axes>"
      ]
     },
     "metadata": {
      "needs_background": "light"
     },
     "output_type": "display_data"
    }
   ],
   "source": [
    "var1 = data.dti\n",
    "\n",
    "plt.figure(figsize=(12,4))\n",
    "plt.subplot(1,2,1)\n",
    "sns.distplot(a=var1, rug=True)\n",
    "plt.subplot(1,2,2)\n",
    "sns.boxplot(data=var1)"
   ]
  },
  {
   "cell_type": "markdown",
   "metadata": {},
   "source": [
    "**Conclusions**:<br>\n",
    "Looks like there are no outliers and the distribution is very much similar to normal distribution."
   ]
  },
  {
   "cell_type": "markdown",
   "metadata": {
    "colab_type": "text",
    "id": "_o8jHTaxMn0Q"
   },
   "source": [
    "# open_acc\n",
    "The number of open credit lines in the borrower's credit file."
   ]
  },
  {
   "cell_type": "code",
   "execution_count": 43,
   "metadata": {
    "colab": {},
    "colab_type": "code",
    "id": "gP4srh0uMn1x",
    "outputId": "6c83f600-c5b4-4c4e-ade7-b30751abf884"
   },
   "outputs": [
    {
     "data": {
      "text/plain": [
       "<matplotlib.axes._subplots.AxesSubplot at 0x7fc554ad3d90>"
      ]
     },
     "execution_count": 43,
     "metadata": {},
     "output_type": "execute_result"
    },
    {
     "data": {
      "image/png": "[encoded data removed]",
      "text/plain": [
       "<Figure size 1440x576 with 1 Axes>"
      ]
     },
     "metadata": {
      "needs_background": "light"
     },
     "output_type": "display_data"
    }
   ],
   "source": [
    "plt.figure(figsize=(20,8))\n",
    "sns.countplot(data.open_acc, order=data.open_acc.value_counts().index)"
   ]
  },
  {
   "cell_type": "markdown",
   "metadata": {
    "colab_type": "text",
    "id": "pqbsa4MJMn0K"
   },
   "source": [
    "# delinq_2yrs\n",
    "The number of 30+ days past-due incidences of delinquency in the borrower's credit file for the past 2 years"
   ]
  },
  {
   "cell_type": "code",
   "execution_count": 44,
   "metadata": {
    "colab": {},
    "colab_type": "code",
    "id": "A_vgZMadMn1t",
    "outputId": "8e6430f1-b2dd-4d7d-e308-9953aa11063e"
   },
   "outputs": [
    {
     "data": {
      "image/png": "[encoded data removed]",
      "text/plain": [
       "<Figure size 432x288 with 1 Axes>"
      ]
     },
     "metadata": {
      "needs_background": "light"
     },
     "output_type": "display_data"
    }
   ],
   "source": [
    "sns.countplot(data.delinq_2yrs)\n",
    "#scalling to log to view easily\n",
    "plt.yscale('log')"
   ]
  },
  {
   "cell_type": "markdown",
   "metadata": {
    "colab_type": "text",
    "id": "CQIQmTO3Mn0N"
   },
   "source": [
    "# inq_last_6mths\n",
    "The number of inquiries in past 6 months (excluding auto and mortgage inquiries)"
   ]
  },
  {
   "cell_type": "code",
   "execution_count": 45,
   "metadata": {
    "colab": {},
    "colab_type": "code",
    "id": "NEkKoYnGMn0O",
    "outputId": "3e3c57e3-6cc0-493e-90cd-de6ad5bc4f10"
   },
   "outputs": [
    {
     "data": {
      "image/png": "[encoded data removed]",
      "text/plain": [
       "<Figure size 432x288 with 1 Axes>"
      ]
     },
     "metadata": {
      "needs_background": "light"
     },
     "output_type": "display_data"
    }
   ],
   "source": [
    "sns.countplot(data.inq_last_6mths)\n",
    "#scalling to log to view easily\n",
    "plt.yscale('log')"
   ]
  },
  {
   "cell_type": "markdown",
   "metadata": {
    "colab_type": "text",
    "id": "ONVWmF_uMn0U"
   },
   "source": [
    "# pub_rec\n",
    "Number of derogatory public records"
   ]
  },
  {
   "cell_type": "code",
   "execution_count": 46,
   "metadata": {},
   "outputs": [
    {
     "data": {
      "image/png": "[encoded data removed]",
      "text/plain": [
       "<Figure size 432x288 with 1 Axes>"
      ]
     },
     "metadata": {
      "needs_background": "light"
     },
     "output_type": "display_data"
    }
   ],
   "source": [
    "sns.countplot(data.pub_rec)\n",
    "#scalling to log to view easily\n",
    "plt.yscale('log')"
   ]
  },
  {
   "cell_type": "markdown",
   "metadata": {
    "colab_type": "text",
    "id": "VOazDrK3Mn0X"
   },
   "source": [
    "# revol_bal\n",
    "Total credit revolving balance"
   ]
  },
  {
   "cell_type": "code",
   "execution_count": 47,
   "metadata": {
    "colab": {},
    "colab_type": "code",
    "id": "mKpcwIEvMn0Y",
    "outputId": "be3f8532-9770-4fe6-89d6-0046b9a3590a"
   },
   "outputs": [
    {
     "data": {
      "text/plain": [
       "<matplotlib.axes._subplots.AxesSubplot at 0x7fc5537956d0>"
      ]
     },
     "execution_count": 47,
     "metadata": {},
     "output_type": "execute_result"
    },
    {
     "data": {
      "image/png": "[encoded data removed]",
      "text/plain": [
       "<Figure size 864x288 with 2 Axes>"
      ]
     },
     "metadata": {
      "needs_background": "light"
     },
     "output_type": "display_data"
    }
   ],
   "source": [
    "var1 = data.revol_bal\n",
    "\n",
    "plt.figure(figsize=(12,4))\n",
    "plt.subplot(1,2,1)\n",
    "sns.distplot(a=var1, rug=True)\n",
    "plt.subplot(1,2,2)\n",
    "sns.boxplot(data=var1)"
   ]
  },
  {
   "cell_type": "code",
   "execution_count": 48,
   "metadata": {},
   "outputs": [
    {
     "data": {
      "text/plain": [
       "count    37835.00\n",
       "mean     13479.95\n",
       "std      15877.29\n",
       "min          0.00\n",
       "5%         358.00\n",
       "10%       1166.00\n",
       "25%       3791.00\n",
       "50%       8978.00\n",
       "75%      17183.50\n",
       "90%      29286.60\n",
       "95%      41834.20\n",
       "99%      82639.04\n",
       "max     149588.00\n",
       "Name: revol_bal, dtype: float64"
      ]
     },
     "execution_count": 48,
     "metadata": {},
     "output_type": "execute_result"
    }
   ],
   "source": [
    "var1.describe(percentiles=[0.05,0.1,0.25,0.5,0.75,0.9,0.95,0.99])"
   ]
  },
  {
   "cell_type": "code",
   "execution_count": 49,
   "metadata": {},
   "outputs": [
    {
     "name": "stdout",
     "output_type": "stream",
     "text": [
      "2380 *****Outlier Right******\n"
     ]
    }
   ],
   "source": [
    "iqr = var1.quantile(0.75) - var1.quantile(0.25)\n",
    "#no of outliers at right side\n",
    "outlier_val = var1.quantile(0.75) + 1.5*iqr\n",
    "print((var1 > outlier_val).sum(), \"*****Outlier Right******\")\n",
    "\n",
    "#data = data[var1 <= outlier_val]\n",
    "#data.shape"
   ]
  },
  {
   "cell_type": "markdown",
   "metadata": {
    "colab_type": "text",
    "id": "C2JcPyaUMn0a"
   },
   "source": [
    "# revol_util\n",
    "Revolving line utilization rate, or the amount of credit the borrower is using relative to all available revolving credit."
   ]
  },
  {
   "cell_type": "code",
   "execution_count": 50,
   "metadata": {
    "colab": {},
    "colab_type": "code",
    "id": "0IMM9HAbMn0a",
    "outputId": "bd3df2ec-452a-4544-87d2-a578ec795ba4"
   },
   "outputs": [
    {
     "data": {
      "text/plain": [
       "<matplotlib.axes._subplots.AxesSubplot at 0x7fc55263dfd0>"
      ]
     },
     "execution_count": 50,
     "metadata": {},
     "output_type": "execute_result"
    },
    {
     "data": {
      "image/png": "[encoded data removed]",
      "text/plain": [
       "<Figure size 864x288 with 2 Axes>"
      ]
     },
     "metadata": {
      "needs_background": "light"
     },
     "output_type": "display_data"
    }
   ],
   "source": [
    "var1 = data.revol_util\n",
    "\n",
    "plt.figure(figsize=(12,4))\n",
    "plt.subplot(1,2,1)\n",
    "sns.distplot(a=var1, rug=True)\n",
    "plt.subplot(1,2,2)\n",
    "sns.boxplot(data=var1)"
   ]
  },
  {
   "cell_type": "markdown",
   "metadata": {
    "colab_type": "text",
    "id": "LAtbtSI4Mn0c"
   },
   "source": [
    "# total_acc\n",
    "The total number of credit lines currently in the borrower's credit file"
   ]
  },
  {
   "cell_type": "code",
   "execution_count": 51,
   "metadata": {
    "colab": {},
    "colab_type": "code",
    "id": "lHmm7Hn-Mn0d",
    "outputId": "bd7beab0-d9ec-4d5c-bd92-26fe116c3c31"
   },
   "outputs": [
    {
     "data": {
      "text/plain": [
       "<matplotlib.axes._subplots.AxesSubplot at 0x7fc5511565d0>"
      ]
     },
     "execution_count": 51,
     "metadata": {},
     "output_type": "execute_result"
    },
    {
     "data": {
      "image/png": "[encoded data removed]",
      "text/plain": [
       "<Figure size 864x288 with 2 Axes>"
      ]
     },
     "metadata": {
      "needs_background": "light"
     },
     "output_type": "display_data"
    }
   ],
   "source": [
    "var1 = data.total_acc\n",
    "\n",
    "plt.figure(figsize=(12,4))\n",
    "plt.subplot(1,2,1)\n",
    "sns.distplot(a=var1, rug=True)\n",
    "plt.subplot(1,2,2)\n",
    "sns.boxplot(data=var1)"
   ]
  },
  {
   "cell_type": "code",
   "execution_count": 52,
   "metadata": {},
   "outputs": [
    {
     "data": {
      "text/plain": [
       "count   37835.00\n",
       "mean       22.20\n",
       "std        11.38\n",
       "min         2.00\n",
       "5%          7.00\n",
       "10%         9.00\n",
       "25%        14.00\n",
       "50%        21.00\n",
       "75%        29.00\n",
       "90%        38.00\n",
       "95%        43.00\n",
       "99%        56.00\n",
       "max        90.00\n",
       "Name: total_acc, dtype: float64"
      ]
     },
     "execution_count": 52,
     "metadata": {},
     "output_type": "execute_result"
    }
   ],
   "source": [
    "var1.describe(percentiles=[0.05,0.1,0.25,0.5,0.75,0.9,0.95,0.99])"
   ]
  },
  {
   "cell_type": "code",
   "execution_count": 53,
   "metadata": {},
   "outputs": [
    {
     "name": "stdout",
     "output_type": "stream",
     "text": [
      "684 *****Outlier Right******\n"
     ]
    }
   ],
   "source": [
    "iqr = var1.quantile(0.75) - var1.quantile(0.25)\n",
    "#no of outliers at right side\n",
    "outlier_val = var1.quantile(0.75) + 1.5*iqr\n",
    "print((var1 > outlier_val).sum(), \"*****Outlier Right******\")\n",
    "\n",
    "#data = data[var1 <= outlier_val]\n",
    "#data.shape"
   ]
  },
  {
   "cell_type": "markdown",
   "metadata": {
    "colab_type": "text",
    "id": "LNEWxwm2Mn0f"
   },
   "source": [
    "# out_prncp\n",
    "Remaining outstanding principal for total amount funded"
   ]
  },
  {
   "cell_type": "code",
   "execution_count": 54,
   "metadata": {
    "colab": {},
    "colab_type": "code",
    "id": "OejkHwRGMn0f",
    "outputId": "9f5b46ed-9059-47d7-86aa-e0c20f5c114e"
   },
   "outputs": [
    {
     "ename": "RuntimeError",
     "evalue": "Selected KDE bandwidth is 0. Cannot estiamte density.",
     "output_type": "error",
     "traceback": [
      "\u001b[0;31m---------------------------------------------------------------------------\u001b[0m",
      "\u001b[0;31mValueError\u001b[0m                                Traceback (most recent call last)",
      "\u001b[0;32m~/anaconda3/lib/python3.7/site-packages/statsmodels/nonparametric/kde.py\u001b[0m in \u001b[0;36mkdensityfft\u001b[0;34m(X, kernel, bw, weights, gridsize, adjust, clip, cut, retgrid)\u001b[0m\n\u001b[1;32m    450\u001b[0m     \u001b[0;32mtry\u001b[0m\u001b[0;34m:\u001b[0m\u001b[0;34m\u001b[0m\u001b[0;34m\u001b[0m\u001b[0m\n\u001b[0;32m--> 451\u001b[0;31m         \u001b[0mbw\u001b[0m \u001b[0;34m=\u001b[0m \u001b[0mfloat\u001b[0m\u001b[0;34m(\u001b[0m\u001b[0mbw\u001b[0m\u001b[0;34m)\u001b[0m\u001b[0;34m\u001b[0m\u001b[0;34m\u001b[0m\u001b[0m\n\u001b[0m\u001b[1;32m    452\u001b[0m     \u001b[0;32mexcept\u001b[0m\u001b[0;34m:\u001b[0m\u001b[0;34m\u001b[0m\u001b[0;34m\u001b[0m\u001b[0m\n",
      "\u001b[0;31mValueError\u001b[0m: could not convert string to float: 'scott'",
      "\nDuring handling of the above exception, another exception occurred:\n",
      "\u001b[0;31mRuntimeError\u001b[0m                              Traceback (most recent call last)",
      "\u001b[0;32m<ipython-input-54-9fc5645a29c8>\u001b[0m in \u001b[0;36m<module>\u001b[0;34m\u001b[0m\n\u001b[1;32m      3\u001b[0m \u001b[0mplt\u001b[0m\u001b[0;34m.\u001b[0m\u001b[0mfigure\u001b[0m\u001b[0;34m(\u001b[0m\u001b[0mfigsize\u001b[0m\u001b[0;34m=\u001b[0m\u001b[0;34m(\u001b[0m\u001b[0;36m12\u001b[0m\u001b[0;34m,\u001b[0m\u001b[0;36m4\u001b[0m\u001b[0;34m)\u001b[0m\u001b[0;34m)\u001b[0m\u001b[0;34m\u001b[0m\u001b[0;34m\u001b[0m\u001b[0m\n\u001b[1;32m      4\u001b[0m \u001b[0mplt\u001b[0m\u001b[0;34m.\u001b[0m\u001b[0msubplot\u001b[0m\u001b[0;34m(\u001b[0m\u001b[0;36m1\u001b[0m\u001b[0;34m,\u001b[0m\u001b[0;36m2\u001b[0m\u001b[0;34m,\u001b[0m\u001b[0;36m1\u001b[0m\u001b[0;34m)\u001b[0m\u001b[0;34m\u001b[0m\u001b[0;34m\u001b[0m\u001b[0m\n\u001b[0;32m----> 5\u001b[0;31m \u001b[0msns\u001b[0m\u001b[0;34m.\u001b[0m\u001b[0mdistplot\u001b[0m\u001b[0;34m(\u001b[0m\u001b[0ma\u001b[0m\u001b[0;34m=\u001b[0m\u001b[0mvar1\u001b[0m\u001b[0;34m,\u001b[0m \u001b[0mrug\u001b[0m\u001b[0;34m=\u001b[0m\u001b[0;32mTrue\u001b[0m\u001b[0;34m)\u001b[0m\u001b[0;34m\u001b[0m\u001b[0;34m\u001b[0m\u001b[0m\n\u001b[0m\u001b[1;32m      6\u001b[0m \u001b[0mplt\u001b[0m\u001b[0;34m.\u001b[0m\u001b[0msubplot\u001b[0m\u001b[0;34m(\u001b[0m\u001b[0;36m1\u001b[0m\u001b[0;34m,\u001b[0m\u001b[0;36m2\u001b[0m\u001b[0;34m,\u001b[0m\u001b[0;36m2\u001b[0m\u001b[0;34m)\u001b[0m\u001b[0;34m\u001b[0m\u001b[0;34m\u001b[0m\u001b[0m\n\u001b[1;32m      7\u001b[0m \u001b[0msns\u001b[0m\u001b[0;34m.\u001b[0m\u001b[0mboxplot\u001b[0m\u001b[0;34m(\u001b[0m\u001b[0mdata\u001b[0m\u001b[0;34m=\u001b[0m\u001b[0mvar1\u001b[0m\u001b[0;34m)\u001b[0m\u001b[0;34m\u001b[0m\u001b[0;34m\u001b[0m\u001b[0m\n",
      "\u001b[0;32m~/anaconda3/lib/python3.7/site-packages/seaborn/distributions.py\u001b[0m in \u001b[0;36mdistplot\u001b[0;34m(a, bins, hist, kde, rug, fit, hist_kws, kde_kws, rug_kws, fit_kws, color, vertical, norm_hist, axlabel, label, ax)\u001b[0m\n\u001b[1;32m    231\u001b[0m     \u001b[0;32mif\u001b[0m \u001b[0mkde\u001b[0m\u001b[0;34m:\u001b[0m\u001b[0;34m\u001b[0m\u001b[0;34m\u001b[0m\u001b[0m\n\u001b[1;32m    232\u001b[0m         \u001b[0mkde_color\u001b[0m \u001b[0;34m=\u001b[0m \u001b[0mkde_kws\u001b[0m\u001b[0;34m.\u001b[0m\u001b[0mpop\u001b[0m\u001b[0;34m(\u001b[0m\u001b[0;34m\"color\"\u001b[0m\u001b[0;34m,\u001b[0m \u001b[0mcolor\u001b[0m\u001b[0;34m)\u001b[0m\u001b[0;34m\u001b[0m\u001b[0;34m\u001b[0m\u001b[0m\n\u001b[0;32m--> 233\u001b[0;31m         \u001b[0mkdeplot\u001b[0m\u001b[0;34m(\u001b[0m\u001b[0ma\u001b[0m\u001b[0;34m,\u001b[0m \u001b[0mvertical\u001b[0m\u001b[0;34m=\u001b[0m\u001b[0mvertical\u001b[0m\u001b[0;34m,\u001b[0m \u001b[0max\u001b[0m\u001b[0;34m=\u001b[0m\u001b[0max\u001b[0m\u001b[0;34m,\u001b[0m \u001b[0mcolor\u001b[0m\u001b[0;34m=\u001b[0m\u001b[0mkde_color\u001b[0m\u001b[0;34m,\u001b[0m \u001b[0;34m**\u001b[0m\u001b[0mkde_kws\u001b[0m\u001b[0;34m)\u001b[0m\u001b[0;34m\u001b[0m\u001b[0;34m\u001b[0m\u001b[0m\n\u001b[0m\u001b[1;32m    234\u001b[0m         \u001b[0;32mif\u001b[0m \u001b[0mkde_color\u001b[0m \u001b[0;34m!=\u001b[0m \u001b[0mcolor\u001b[0m\u001b[0;34m:\u001b[0m\u001b[0;34m\u001b[0m\u001b[0;34m\u001b[0m\u001b[0m\n\u001b[1;32m    235\u001b[0m             \u001b[0mkde_kws\u001b[0m\u001b[0;34m[\u001b[0m\u001b[0;34m\"color\"\u001b[0m\u001b[0;34m]\u001b[0m \u001b[0;34m=\u001b[0m \u001b[0mkde_color\u001b[0m\u001b[0;34m\u001b[0m\u001b[0;34m\u001b[0m\u001b[0m\n",
      "\u001b[0;32m~/anaconda3/lib/python3.7/site-packages/seaborn/distributions.py\u001b[0m in \u001b[0;36mkdeplot\u001b[0;34m(data, data2, shade, vertical, kernel, bw, gridsize, cut, clip, legend, cumulative, shade_lowest, cbar, cbar_ax, cbar_kws, ax, **kwargs)\u001b[0m\n\u001b[1;32m    703\u001b[0m         ax = _univariate_kdeplot(data, shade, vertical, kernel, bw,\n\u001b[1;32m    704\u001b[0m                                  \u001b[0mgridsize\u001b[0m\u001b[0;34m,\u001b[0m \u001b[0mcut\u001b[0m\u001b[0;34m,\u001b[0m \u001b[0mclip\u001b[0m\u001b[0;34m,\u001b[0m \u001b[0mlegend\u001b[0m\u001b[0;34m,\u001b[0m \u001b[0max\u001b[0m\u001b[0;34m,\u001b[0m\u001b[0;34m\u001b[0m\u001b[0;34m\u001b[0m\u001b[0m\n\u001b[0;32m--> 705\u001b[0;31m                                  cumulative=cumulative, **kwargs)\n\u001b[0m\u001b[1;32m    706\u001b[0m \u001b[0;34m\u001b[0m\u001b[0m\n\u001b[1;32m    707\u001b[0m     \u001b[0;32mreturn\u001b[0m \u001b[0max\u001b[0m\u001b[0;34m\u001b[0m\u001b[0;34m\u001b[0m\u001b[0m\n",
      "\u001b[0;32m~/anaconda3/lib/python3.7/site-packages/seaborn/distributions.py\u001b[0m in \u001b[0;36m_univariate_kdeplot\u001b[0;34m(data, shade, vertical, kernel, bw, gridsize, cut, clip, legend, ax, cumulative, **kwargs)\u001b[0m\n\u001b[1;32m    293\u001b[0m         x, y = _statsmodels_univariate_kde(data, kernel, bw,\n\u001b[1;32m    294\u001b[0m                                            \u001b[0mgridsize\u001b[0m\u001b[0;34m,\u001b[0m \u001b[0mcut\u001b[0m\u001b[0;34m,\u001b[0m \u001b[0mclip\u001b[0m\u001b[0;34m,\u001b[0m\u001b[0;34m\u001b[0m\u001b[0;34m\u001b[0m\u001b[0m\n\u001b[0;32m--> 295\u001b[0;31m                                            cumulative=cumulative)\n\u001b[0m\u001b[1;32m    296\u001b[0m     \u001b[0;32melse\u001b[0m\u001b[0;34m:\u001b[0m\u001b[0;34m\u001b[0m\u001b[0;34m\u001b[0m\u001b[0m\n\u001b[1;32m    297\u001b[0m         \u001b[0;31m# Fall back to scipy if missing statsmodels\u001b[0m\u001b[0;34m\u001b[0m\u001b[0;34m\u001b[0m\u001b[0;34m\u001b[0m\u001b[0m\n",
      "\u001b[0;32m~/anaconda3/lib/python3.7/site-packages/seaborn/distributions.py\u001b[0m in \u001b[0;36m_statsmodels_univariate_kde\u001b[0;34m(data, kernel, bw, gridsize, cut, clip, cumulative)\u001b[0m\n\u001b[1;32m    365\u001b[0m     \u001b[0mfft\u001b[0m \u001b[0;34m=\u001b[0m \u001b[0mkernel\u001b[0m \u001b[0;34m==\u001b[0m \u001b[0;34m\"gau\"\u001b[0m\u001b[0;34m\u001b[0m\u001b[0;34m\u001b[0m\u001b[0m\n\u001b[1;32m    366\u001b[0m     \u001b[0mkde\u001b[0m \u001b[0;34m=\u001b[0m \u001b[0msmnp\u001b[0m\u001b[0;34m.\u001b[0m\u001b[0mKDEUnivariate\u001b[0m\u001b[0;34m(\u001b[0m\u001b[0mdata\u001b[0m\u001b[0;34m)\u001b[0m\u001b[0;34m\u001b[0m\u001b[0;34m\u001b[0m\u001b[0m\n\u001b[0;32m--> 367\u001b[0;31m     \u001b[0mkde\u001b[0m\u001b[0;34m.\u001b[0m\u001b[0mfit\u001b[0m\u001b[0;34m(\u001b[0m\u001b[0mkernel\u001b[0m\u001b[0;34m,\u001b[0m \u001b[0mbw\u001b[0m\u001b[0;34m,\u001b[0m \u001b[0mfft\u001b[0m\u001b[0;34m,\u001b[0m \u001b[0mgridsize\u001b[0m\u001b[0;34m=\u001b[0m\u001b[0mgridsize\u001b[0m\u001b[0;34m,\u001b[0m \u001b[0mcut\u001b[0m\u001b[0;34m=\u001b[0m\u001b[0mcut\u001b[0m\u001b[0;34m,\u001b[0m \u001b[0mclip\u001b[0m\u001b[0;34m=\u001b[0m\u001b[0mclip\u001b[0m\u001b[0;34m)\u001b[0m\u001b[0;34m\u001b[0m\u001b[0;34m\u001b[0m\u001b[0m\n\u001b[0m\u001b[1;32m    368\u001b[0m     \u001b[0;32mif\u001b[0m \u001b[0mcumulative\u001b[0m\u001b[0;34m:\u001b[0m\u001b[0;34m\u001b[0m\u001b[0;34m\u001b[0m\u001b[0m\n\u001b[1;32m    369\u001b[0m         \u001b[0mgrid\u001b[0m\u001b[0;34m,\u001b[0m \u001b[0my\u001b[0m \u001b[0;34m=\u001b[0m \u001b[0mkde\u001b[0m\u001b[0;34m.\u001b[0m\u001b[0msupport\u001b[0m\u001b[0;34m,\u001b[0m \u001b[0mkde\u001b[0m\u001b[0;34m.\u001b[0m\u001b[0mcdf\u001b[0m\u001b[0;34m\u001b[0m\u001b[0;34m\u001b[0m\u001b[0m\n",
      "\u001b[0;32m~/anaconda3/lib/python3.7/site-packages/statsmodels/nonparametric/kde.py\u001b[0m in \u001b[0;36mfit\u001b[0;34m(self, kernel, bw, fft, weights, gridsize, adjust, cut, clip)\u001b[0m\n\u001b[1;32m    138\u001b[0m             density, grid, bw = kdensityfft(endog, kernel=kernel, bw=bw,\n\u001b[1;32m    139\u001b[0m                     \u001b[0madjust\u001b[0m\u001b[0;34m=\u001b[0m\u001b[0madjust\u001b[0m\u001b[0;34m,\u001b[0m \u001b[0mweights\u001b[0m\u001b[0;34m=\u001b[0m\u001b[0mweights\u001b[0m\u001b[0;34m,\u001b[0m \u001b[0mgridsize\u001b[0m\u001b[0;34m=\u001b[0m\u001b[0mgridsize\u001b[0m\u001b[0;34m,\u001b[0m\u001b[0;34m\u001b[0m\u001b[0;34m\u001b[0m\u001b[0m\n\u001b[0;32m--> 140\u001b[0;31m                     clip=clip, cut=cut)\n\u001b[0m\u001b[1;32m    141\u001b[0m         \u001b[0;32melse\u001b[0m\u001b[0;34m:\u001b[0m\u001b[0;34m\u001b[0m\u001b[0;34m\u001b[0m\u001b[0m\n\u001b[1;32m    142\u001b[0m             density, grid, bw = kdensity(endog, kernel=kernel, bw=bw,\n",
      "\u001b[0;32m~/anaconda3/lib/python3.7/site-packages/statsmodels/nonparametric/kde.py\u001b[0m in \u001b[0;36mkdensityfft\u001b[0;34m(X, kernel, bw, weights, gridsize, adjust, clip, cut, retgrid)\u001b[0m\n\u001b[1;32m    451\u001b[0m         \u001b[0mbw\u001b[0m \u001b[0;34m=\u001b[0m \u001b[0mfloat\u001b[0m\u001b[0;34m(\u001b[0m\u001b[0mbw\u001b[0m\u001b[0;34m)\u001b[0m\u001b[0;34m\u001b[0m\u001b[0;34m\u001b[0m\u001b[0m\n\u001b[1;32m    452\u001b[0m     \u001b[0;32mexcept\u001b[0m\u001b[0;34m:\u001b[0m\u001b[0;34m\u001b[0m\u001b[0;34m\u001b[0m\u001b[0m\n\u001b[0;32m--> 453\u001b[0;31m         \u001b[0mbw\u001b[0m \u001b[0;34m=\u001b[0m \u001b[0mbandwidths\u001b[0m\u001b[0;34m.\u001b[0m\u001b[0mselect_bandwidth\u001b[0m\u001b[0;34m(\u001b[0m\u001b[0mX\u001b[0m\u001b[0;34m,\u001b[0m \u001b[0mbw\u001b[0m\u001b[0;34m,\u001b[0m \u001b[0mkern\u001b[0m\u001b[0;34m)\u001b[0m \u001b[0;31m# will cross-val fit this pattern?\u001b[0m\u001b[0;34m\u001b[0m\u001b[0;34m\u001b[0m\u001b[0m\n\u001b[0m\u001b[1;32m    454\u001b[0m     \u001b[0mbw\u001b[0m \u001b[0;34m*=\u001b[0m \u001b[0madjust\u001b[0m\u001b[0;34m\u001b[0m\u001b[0;34m\u001b[0m\u001b[0m\n\u001b[1;32m    455\u001b[0m \u001b[0;34m\u001b[0m\u001b[0m\n",
      "\u001b[0;32m~/anaconda3/lib/python3.7/site-packages/statsmodels/nonparametric/bandwidths.py\u001b[0m in \u001b[0;36mselect_bandwidth\u001b[0;34m(x, bw, kernel)\u001b[0m\n\u001b[1;32m    172\u001b[0m         \u001b[0;31m# eventually this can fall back on another selection criterion.\u001b[0m\u001b[0;34m\u001b[0m\u001b[0;34m\u001b[0m\u001b[0;34m\u001b[0m\u001b[0m\n\u001b[1;32m    173\u001b[0m         \u001b[0merr\u001b[0m \u001b[0;34m=\u001b[0m \u001b[0;34m\"Selected KDE bandwidth is 0. Cannot estiamte density.\"\u001b[0m\u001b[0;34m\u001b[0m\u001b[0;34m\u001b[0m\u001b[0m\n\u001b[0;32m--> 174\u001b[0;31m         \u001b[0;32mraise\u001b[0m \u001b[0mRuntimeError\u001b[0m\u001b[0;34m(\u001b[0m\u001b[0merr\u001b[0m\u001b[0;34m)\u001b[0m\u001b[0;34m\u001b[0m\u001b[0;34m\u001b[0m\u001b[0m\n\u001b[0m\u001b[1;32m    175\u001b[0m     \u001b[0;32melse\u001b[0m\u001b[0;34m:\u001b[0m\u001b[0;34m\u001b[0m\u001b[0;34m\u001b[0m\u001b[0m\n\u001b[1;32m    176\u001b[0m         \u001b[0;32mreturn\u001b[0m \u001b[0mbandwidth\u001b[0m\u001b[0;34m\u001b[0m\u001b[0;34m\u001b[0m\u001b[0m\n",
      "\u001b[0;31mRuntimeError\u001b[0m: Selected KDE bandwidth is 0. Cannot estiamte density."
     ]
    },
    {
     "data": {
      "image/png": "[encoded data removed]",
      "text/plain": [
       "<Figure size 864x288 with 1 Axes>"
      ]
     },
     "metadata": {
      "needs_background": "light"
     },
     "output_type": "display_data"
    }
   ],
   "source": [
    "var1 = data.out_prncp\n",
    "\n",
    "plt.figure(figsize=(12,4))\n",
    "plt.subplot(1,2,1)\n",
    "sns.distplot(a=var1, rug=True)\n",
    "plt.subplot(1,2,2)\n",
    "sns.boxplot(data=var1)"
   ]
  },
  {
   "cell_type": "code",
   "execution_count": null,
   "metadata": {},
   "outputs": [],
   "source": [
    "var1.describe(percentiles=[0.05,0.1,0.25,0.5,0.75,0.9,0.95,0.99])"
   ]
  },
  {
   "cell_type": "markdown",
   "metadata": {},
   "source": [
    "**Conclusions**:<br>\n",
    "99% values are 0, only 1% have more the 0 outstanding priciple for total funded amount"
   ]
  },
  {
   "cell_type": "code",
   "execution_count": null,
   "metadata": {},
   "outputs": [],
   "source": [
    "iqr = var1.quantile(0.75) - var1.quantile(0.25)\n",
    "#no of outliers at right side\n",
    "outlier_val = var1.quantile(0.75) + 1.5*iqr\n",
    "print((var1 > outlier_val).sum(), \"*****Outlier Right******\")\n",
    "\n",
    "#data = data[var1 <= outlier_val]\n",
    "#data.shape"
   ]
  },
  {
   "cell_type": "markdown",
   "metadata": {
    "colab_type": "text",
    "id": "2QA2mQBiMn0h"
   },
   "source": [
    "# out_prncp_inv\n",
    "Remaining outstanding principal for portion of total amount funded by investors"
   ]
  },
  {
   "cell_type": "code",
   "execution_count": null,
   "metadata": {
    "colab": {},
    "colab_type": "code",
    "id": "m4mO-QcKMn0i",
    "outputId": "eef702af-fe75-4b64-d05b-b481ecc03b05"
   },
   "outputs": [],
   "source": [
    "var1 = data.out_prncp_inv\n",
    "\n",
    "plt.figure(figsize=(12,4))\n",
    "plt.subplot(1,2,1)\n",
    "sns.distplot(a=var1, rug=True)\n",
    "plt.subplot(1,2,2)\n",
    "sns.boxplot(data=var1)"
   ]
  },
  {
   "cell_type": "code",
   "execution_count": null,
   "metadata": {},
   "outputs": [],
   "source": [
    "var1.describe(percentiles=[0.05,0.1,0.25,0.5,0.75,0.9,0.95,0.99])"
   ]
  },
  {
   "cell_type": "markdown",
   "metadata": {},
   "source": [
    "**Conclusions**:<br>\n",
    "99% values are 0, only 1% have more the 0 outstanding priciple for total funded amount invested"
   ]
  },
  {
   "cell_type": "code",
   "execution_count": null,
   "metadata": {},
   "outputs": [],
   "source": [
    "iqr = var1.quantile(0.75) - var1.quantile(0.25)\n",
    "#no of outliers at right side\n",
    "outlier_val = var1.quantile(0.75) + 1.5*iqr\n",
    "print((var1 > outlier_val).sum(), \"*****Outlier Right******\")\n",
    "\n",
    "#data = data[var1 <= outlier_val]\n",
    "#data.shape"
   ]
  },
  {
   "cell_type": "markdown",
   "metadata": {
    "colab_type": "text",
    "id": "aitIctolMn0k"
   },
   "source": [
    "# total_pymnt\n",
    "Payments received to date for total amount funded"
   ]
  },
  {
   "cell_type": "code",
   "execution_count": null,
   "metadata": {
    "colab": {},
    "colab_type": "code",
    "id": "OwuEhnkDMn0k",
    "outputId": "e4cd5ceb-9b2b-404c-fe15-1d846365ad60"
   },
   "outputs": [],
   "source": [
    "var1 = data.total_pymnt\n",
    "\n",
    "plt.figure(figsize=(12,4))\n",
    "plt.subplot(1,2,1)\n",
    "sns.distplot(a=var1, rug=True)\n",
    "plt.subplot(1,2,2)\n",
    "sns.boxplot(data=var1)"
   ]
  },
  {
   "cell_type": "code",
   "execution_count": null,
   "metadata": {},
   "outputs": [],
   "source": [
    "var1.describe(percentiles=[0.05,0.1,0.25,0.5,0.75,0.9,0.95,0.99])"
   ]
  },
  {
   "cell_type": "code",
   "execution_count": null,
   "metadata": {},
   "outputs": [],
   "source": [
    "iqr = var1.quantile(0.75) - var1.quantile(0.25)\n",
    "#no of outliers at right side\n",
    "outlier_val = var1.quantile(0.75) + 1.5*iqr\n",
    "print((var1 > outlier_val).sum(), \"*****Outlier Right******\")\n",
    "\n",
    "#data = data[var1 <= outlier_val]\n",
    "#data.shape"
   ]
  },
  {
   "cell_type": "markdown",
   "metadata": {
    "colab_type": "text",
    "id": "78XyC6Q1Mn0m"
   },
   "source": [
    "# total_pymnt_inv\n",
    "Payments received to date for portion of total amount funded by investors"
   ]
  },
  {
   "cell_type": "code",
   "execution_count": null,
   "metadata": {
    "colab": {},
    "colab_type": "code",
    "id": "F8Y5yol-Mn0o",
    "outputId": "16a9ac2e-21f1-4d4c-b511-9e529b5c924a"
   },
   "outputs": [],
   "source": [
    "var1 = data.total_pymnt_inv\n",
    "\n",
    "plt.figure(figsize=(12,4))\n",
    "plt.subplot(1,2,1)\n",
    "sns.distplot(a=var1, rug=True)\n",
    "plt.subplot(1,2,2)\n",
    "sns.boxplot(data=var1)"
   ]
  },
  {
   "cell_type": "code",
   "execution_count": null,
   "metadata": {},
   "outputs": [],
   "source": [
    "var1.describe(percentiles=[0.05,0.1,0.25,0.5,0.75,0.9,0.95,0.99])"
   ]
  },
  {
   "cell_type": "code",
   "execution_count": null,
   "metadata": {},
   "outputs": [],
   "source": [
    "iqr = var1.quantile(0.75) - var1.quantile(0.25)\n",
    "#no of outliers at right side\n",
    "outlier_val = var1.quantile(0.75) + 1.5*iqr\n",
    "print((var1 > outlier_val).sum(), \"*****Outlier Right******\")\n",
    "\n",
    "#data = data[var1 <= outlier_val]\n",
    "#data.shape"
   ]
  },
  {
   "cell_type": "markdown",
   "metadata": {
    "colab_type": "text",
    "id": "5wgUhby4Mn0q"
   },
   "source": [
    "# total_rec_prncp\n",
    "Principal received to date"
   ]
  },
  {
   "cell_type": "code",
   "execution_count": null,
   "metadata": {
    "colab": {},
    "colab_type": "code",
    "id": "bCLR2dBIMn0r",
    "outputId": "979ffcf7-8e83-416d-eb18-d54a568c3b20"
   },
   "outputs": [],
   "source": [
    "var1 = data.total_rec_prncp\n",
    "\n",
    "plt.figure(figsize=(12,4))\n",
    "plt.subplot(1,2,1)\n",
    "sns.distplot(a=var1, rug=True)\n",
    "plt.subplot(1,2,2)\n",
    "sns.boxplot(data=var1)"
   ]
  },
  {
   "cell_type": "code",
   "execution_count": null,
   "metadata": {},
   "outputs": [],
   "source": [
    "var1.describe(percentiles=[0.05,0.1,0.25,0.5,0.75,0.9,0.95,0.99])"
   ]
  },
  {
   "cell_type": "code",
   "execution_count": null,
   "metadata": {},
   "outputs": [],
   "source": [
    "iqr = var1.quantile(0.75) - var1.quantile(0.25)\n",
    "#no of outliers at right side\n",
    "outlier_val = var1.quantile(0.75) + 1.5*iqr\n",
    "print((var1 > outlier_val).sum(), \"*****Outlier Right******\")\n",
    "\n",
    "#data = data[var1 <= outlier_val]\n",
    "#data.shape"
   ]
  },
  {
   "cell_type": "markdown",
   "metadata": {
    "colab_type": "text",
    "id": "wCKxgbRhMn0u"
   },
   "source": [
    "# total_rec_int\n",
    "Interest received to date    \n",
    "Here I plotted only terms and grade"
   ]
  },
  {
   "cell_type": "code",
   "execution_count": null,
   "metadata": {
    "colab": {},
    "colab_type": "code",
    "id": "DJoxE4s5Mn0u",
    "outputId": "0eb41e29-b5b5-4b76-ce85-00d5cb97ab5a"
   },
   "outputs": [],
   "source": [
    "var1 = data.total_rec_int\n",
    "\n",
    "plt.figure(figsize=(12,4))\n",
    "plt.subplot(1,2,1)\n",
    "sns.distplot(a=var1, rug=True)\n",
    "plt.subplot(1,2,2)\n",
    "sns.boxplot(data=var1)"
   ]
  },
  {
   "cell_type": "code",
   "execution_count": null,
   "metadata": {},
   "outputs": [],
   "source": [
    "var1.describe(percentiles=[0.05,0.1,0.25,0.5,0.75,0.9,0.95,0.99])"
   ]
  },
  {
   "cell_type": "code",
   "execution_count": null,
   "metadata": {},
   "outputs": [],
   "source": [
    "iqr = var1.quantile(0.75) - var1.quantile(0.25)\n",
    "#no of outliers at right side\n",
    "outlier_val = var1.quantile(0.75) + 1.5*iqr\n",
    "print((var1 > outlier_val).sum(), \"*****Outlier Right******\")\n",
    "\n",
    "#data = data[var1 <= outlier_val]\n",
    "#data.shape"
   ]
  },
  {
   "cell_type": "markdown",
   "metadata": {
    "colab_type": "text",
    "id": "qOoPuw6MMn0x"
   },
   "source": [
    "# total_rec_late_fee\n",
    "Late fees received to date"
   ]
  },
  {
   "cell_type": "code",
   "execution_count": null,
   "metadata": {
    "colab": {},
    "colab_type": "code",
    "id": "PkxiYXvNMn0y",
    "outputId": "279d1902-68bd-469c-8990-4099d361ebc8"
   },
   "outputs": [],
   "source": [
    "var1 = data.total_rec_late_fee\n",
    "\n",
    "plt.figure(figsize=(12,4))\n",
    "plt.subplot(1,2,1)\n",
    "sns.distplot(a=var1, rug=True)\n",
    "plt.subplot(1,2,2)\n",
    "sns.boxplot(data=var1)"
   ]
  },
  {
   "cell_type": "code",
   "execution_count": null,
   "metadata": {},
   "outputs": [],
   "source": [
    "var1.describe(percentiles=[0.05,0.1,0.25,0.5,0.75,0.9,0.95,0.99])"
   ]
  },
  {
   "cell_type": "code",
   "execution_count": null,
   "metadata": {},
   "outputs": [],
   "source": [
    "iqr = var1.quantile(0.75) - var1.quantile(0.25)\n",
    "#no of outliers at right side\n",
    "outlier_val = var1.quantile(0.75) + 1.5*iqr\n",
    "print((var1 > outlier_val).sum(), \"*****Outlier Right******\")\n",
    "\n",
    "#data = data[var1 <= outlier_val]\n",
    "#data.shape"
   ]
  },
  {
   "cell_type": "markdown",
   "metadata": {
    "colab_type": "text",
    "id": "qym_vUPXMn0z"
   },
   "source": [
    "# recoveries\n",
    "post charge off gross recovery"
   ]
  },
  {
   "cell_type": "code",
   "execution_count": null,
   "metadata": {
    "colab": {},
    "colab_type": "code",
    "id": "EpxtArbWMn00",
    "outputId": "7a59a279-f2a6-4b53-c0d5-59913719732c"
   },
   "outputs": [],
   "source": [
    "var1 = data.recoveries\n",
    "\n",
    "plt.figure(figsize=(12,4))\n",
    "plt.subplot(1,2,1)\n",
    "sns.distplot(a=var1, rug=True)\n",
    "plt.subplot(1,2,2)\n",
    "sns.boxplot(data=var1)"
   ]
  },
  {
   "cell_type": "code",
   "execution_count": null,
   "metadata": {},
   "outputs": [],
   "source": [
    "var1.describe(percentiles=[0.05,0.1,0.25,0.5,0.75,0.9,0.95,0.99])"
   ]
  },
  {
   "cell_type": "code",
   "execution_count": null,
   "metadata": {},
   "outputs": [],
   "source": [
    "iqr = var1.quantile(0.75) - var1.quantile(0.25)\n",
    "#no of outliers at right side\n",
    "outlier_val = var1.quantile(0.75) + 1.5*iqr\n",
    "print((var1 > outlier_val).sum(), \"*****Outlier Right******\")\n",
    "\n",
    "#data = data[var1 <= outlier_val]\n",
    "#data.shape"
   ]
  },
  {
   "cell_type": "markdown",
   "metadata": {
    "colab_type": "text",
    "id": "SaeJ_9G8Mn04"
   },
   "source": [
    "# collection_recovery_fee\n",
    "post charge off collection fee"
   ]
  },
  {
   "cell_type": "code",
   "execution_count": null,
   "metadata": {
    "colab": {},
    "colab_type": "code",
    "id": "e1V5MiTVMn05",
    "outputId": "89d3d4b3-f1ae-426e-87f8-7342571828b2"
   },
   "outputs": [],
   "source": [
    "var1 = data.collection_recovery_fee\n",
    "\n",
    "plt.figure(figsize=(12,4))\n",
    "plt.subplot(1,2,1)\n",
    "sns.distplot(a=var1, rug=True)\n",
    "plt.subplot(1,2,2)\n",
    "sns.boxplot(data=var1)"
   ]
  },
  {
   "cell_type": "code",
   "execution_count": null,
   "metadata": {},
   "outputs": [],
   "source": [
    "var1.describe(percentiles=[0.05,0.1,0.25,0.5,0.75,0.9,0.95,0.99])"
   ]
  },
  {
   "cell_type": "code",
   "execution_count": null,
   "metadata": {},
   "outputs": [],
   "source": [
    "iqr = var1.quantile(0.75) - var1.quantile(0.25)\n",
    "#no of outliers at right side\n",
    "outlier_val = var1.quantile(0.75) + 1.5*iqr\n",
    "print((var1 > outlier_val).sum(), \"*****Outlier Right******\")\n",
    "\n",
    "#data = data[var1 <= outlier_val]\n",
    "#data.shape"
   ]
  },
  {
   "cell_type": "markdown",
   "metadata": {
    "colab_type": "text",
    "id": "IEmdcqEBMn08"
   },
   "source": [
    "# last_pymnt_amnt\n",
    "Last total payment amount received"
   ]
  },
  {
   "cell_type": "code",
   "execution_count": null,
   "metadata": {
    "colab": {},
    "colab_type": "code",
    "id": "ZGrclHYIMn08",
    "outputId": "3d811184-4c2c-4e27-8510-d17074481e8c"
   },
   "outputs": [],
   "source": [
    "var1 = data.last_pymnt_amnt\n",
    "\n",
    "plt.figure(figsize=(12,4))\n",
    "plt.subplot(1,2,1)\n",
    "sns.distplot(a=var1, rug=True)\n",
    "plt.subplot(1,2,2)\n",
    "sns.boxplot(data=var1)"
   ]
  },
  {
   "cell_type": "code",
   "execution_count": null,
   "metadata": {},
   "outputs": [],
   "source": [
    "var1.describe(percentiles=[0.05,0.1,0.25,0.5,0.75,0.9,0.95,0.99])"
   ]
  },
  {
   "cell_type": "code",
   "execution_count": null,
   "metadata": {},
   "outputs": [],
   "source": [
    "iqr = var1.quantile(0.75) - var1.quantile(0.25)\n",
    "#no of outliers at right side\n",
    "outlier_val = var1.quantile(0.75) + 1.5*iqr\n",
    "print((var1 > outlier_val).sum(), \"*****Outlier Right******\")\n",
    "\n",
    "#data = data[var1 <= outlier_val]\n",
    "#data.shape"
   ]
  },
  {
   "cell_type": "markdown",
   "metadata": {
    "colab_type": "text",
    "id": "8g6L87AvMn1A"
   },
   "source": [
    "# pub_rec_bankruptcies\n",
    "Number of public record bankruptcies"
   ]
  },
  {
   "cell_type": "code",
   "execution_count": null,
   "metadata": {},
   "outputs": [],
   "source": [
    "sns.countplot(data.pub_rec_bankruptcies)"
   ]
  },
  {
   "cell_type": "markdown",
   "metadata": {},
   "source": [
    "<hr>"
   ]
  },
  {
   "cell_type": "markdown",
   "metadata": {},
   "source": [
    "## Categorical Variables"
   ]
  },
  {
   "cell_type": "markdown",
   "metadata": {
    "colab_type": "text",
    "id": "U9q-uLcKMn1i"
   },
   "source": [
    "### Loan issue date (issue_d)"
   ]
  },
  {
   "cell_type": "code",
   "execution_count": null,
   "metadata": {
    "colab": {},
    "colab_type": "code",
    "id": "ABtPMPqVMn1j",
    "outputId": "14169418-ce25-4064-b621-29ccf005792c"
   },
   "outputs": [],
   "source": [
    "plt.figure(figsize=(20,12))\n",
    "plt.subplot(2,2,1)\n",
    "sns.countplot(data.issue_d_year)\n",
    "plt.title('Frequency vs Issued Year')\n",
    "plt.xlabel('Years')\n",
    "plt.ylabel('Frequency')\n",
    "plt.subplot(2,2,2)\n",
    "sns.countplot(data.issue_d_month)\n",
    "plt.title('Frequency vs Issued Month')\n",
    "plt.xlabel('Months')\n",
    "plt.ylabel('Frequency')\n",
    "plt.subplot(2,2,3)\n",
    "sns.countplot(data.issue_d_weekday)\n",
    "plt.title('Frequency vs Issued Week of day')\n",
    "plt.xlabel('Week of the day (from 0 as Monday)')\n",
    "plt.ylabel('Frequency')\n",
    "plt.show()"
   ]
  },
  {
   "cell_type": "markdown",
   "metadata": {},
   "source": [
    "**Conclusion** : <br>\n",
    "The lending club(LC) has doubling loan issues every year. <br>\n",
    "There are more issues of loan in last 3 months every end of the ear i.e., Oct, Nov and Dec. <br>\n",
    "LC has issued more loans on tuesday and wednessday than other week days."
   ]
  },
  {
   "cell_type": "markdown",
   "metadata": {},
   "source": [
    "### Erliest Credit line (earliest_cr_line)"
   ]
  },
  {
   "cell_type": "code",
   "execution_count": null,
   "metadata": {},
   "outputs": [],
   "source": [
    "plt.figure(figsize=(20,5))\n",
    "plt.subplot(2,1,1)\n",
    "#data.issue_d.groupby(data.earliest_cr_line.dt.year).count().plot.bar()\n",
    "sns.countplot(data.earliest_cr_line_year)\n",
    "plt.title('Count vs Earliest cr line year')\n",
    "plt.xticks(rotation=90)\n",
    "plt.xlabel('Year')\n",
    "plt.ylabel('Count')\n",
    "plt.figure(figsize=(20,5))\n",
    "plt.subplot(2,1,2)\n",
    "sns.countplot(data.earliest_cr_line_month)\n",
    "plt.title('Count vs Earliest cr line month')\n",
    "plt.xlabel('Months')\n",
    "plt.ylabel('Count')\n",
    "plt.show()"
   ]
  },
  {
   "cell_type": "markdown",
   "metadata": {},
   "source": [
    "**Conclusions**: <br>\n",
    "Many of Loan borrowers of LC have got earlier credit line in 2000 year, and also most have got earlier credit line on end of the year i.e., Oct, Nov, Dec"
   ]
  },
  {
   "cell_type": "markdown",
   "metadata": {},
   "source": [
    "### last_credit_pull_d"
   ]
  },
  {
   "cell_type": "code",
   "execution_count": null,
   "metadata": {},
   "outputs": [],
   "source": [
    "plt.figure(figsize=(12,5))\n",
    "plt.subplot(2,1,1)\n",
    "sns.countplot(data.last_credit_pull_d_year)\n",
    "plt.title('Count vs Last cr pull year')\n",
    "plt.xlabel('Year')\n",
    "plt.ylabel('Count')\n",
    "plt.figure(figsize=(12,5))\n",
    "plt.subplot(2,1,2)\n",
    "sns.countplot(data.last_credit_pull_d_month)\n",
    "plt.title('Count vs Last cr pull month')\n",
    "plt.xlabel('Months')\n",
    "plt.ylabel('Count')\n",
    "plt.show()"
   ]
  },
  {
   "cell_type": "markdown",
   "metadata": {},
   "source": [
    "**Conclusion**: <br>\n",
    "LC has done more credid pulls of loans in 2016, and also when we compare between months in May and Apr credit pulls are more."
   ]
  },
  {
   "cell_type": "markdown",
   "metadata": {
    "colab_type": "text",
    "id": "3O7BSNhwMn1I"
   },
   "source": [
    "### Term"
   ]
  },
  {
   "cell_type": "code",
   "execution_count": null,
   "metadata": {
    "colab": {},
    "colab_type": "code",
    "id": "PeMdkJpXMn1I",
    "outputId": "d22327d0-6c56-4ed4-b8d2-83f18aff24c8"
   },
   "outputs": [],
   "source": [
    "sns.countplot(data.term)\n",
    "plt.title('Count vs terms')\n",
    "plt.xlabel('Term')\n",
    "plt.ylabel('Count')\n",
    "plt.show()"
   ]
  },
  {
   "cell_type": "markdown",
   "metadata": {},
   "source": [
    "**Conclusion**:<br>\n",
    "Barrowrs have taken 36 months tenure more than 60 months."
   ]
  },
  {
   "cell_type": "markdown",
   "metadata": {
    "colab_type": "text",
    "id": "sT72cUyKMn1P"
   },
   "source": [
    "\n",
    "### Grade"
   ]
  },
  {
   "cell_type": "code",
   "execution_count": null,
   "metadata": {
    "colab": {},
    "colab_type": "code",
    "id": "Me0wpF5SMn1P",
    "outputId": "3d18dc64-e1f4-40a0-88c9-a100f8cdadf9"
   },
   "outputs": [],
   "source": [
    "sns.countplot(data.grade)\n",
    "plt.title('Count vs Grades')\n",
    "plt.xlabel('Grades')\n",
    "plt.ylabel('Count')\n",
    "plt.show()"
   ]
  },
  {
   "cell_type": "markdown",
   "metadata": {},
   "source": [
    "**Conclusions**: <br>\n",
    "Most borrowers fall under A and B grades then other grades"
   ]
  },
  {
   "cell_type": "markdown",
   "metadata": {},
   "source": [
    "###  Sub Grade"
   ]
  },
  {
   "cell_type": "code",
   "execution_count": null,
   "metadata": {},
   "outputs": [],
   "source": [
    "plt.figure(figsize=(20,4))\n",
    "sns.countplot(data.sub_grade, order=data.sub_grade.value_counts().index)\n",
    "plt.title('Count vs Sub Grade')\n",
    "plt.xlabel('Sub Grade')\n",
    "plt.ylabel('Count')\n",
    "plt.show()"
   ]
  },
  {
   "cell_type": "markdown",
   "metadata": {
    "colab_type": "text",
    "id": "fAmo3aowMn1S"
   },
   "source": [
    "### Employment length"
   ]
  },
  {
   "cell_type": "code",
   "execution_count": null,
   "metadata": {
    "colab": {},
    "colab_type": "code",
    "id": "-x9mHhu1Mn1T",
    "outputId": "29b7a653-ac82-4f57-b1ce-ec2b39d3f266"
   },
   "outputs": [],
   "source": [
    "plt.figure(figsize=(10,4))\n",
    "sns.countplot(data.emp_length)\n",
    "plt.title('Count vs Employment Length')\n",
    "plt.xlabel('Employment Length')\n",
    "plt.ylabel('Count')\n",
    "plt.show()"
   ]
  },
  {
   "cell_type": "markdown",
   "metadata": {},
   "source": [
    "**Conclusion**:<br>\n",
    "Borrowers are mostly 10+ years emploment length."
   ]
  },
  {
   "cell_type": "markdown",
   "metadata": {
    "colab_type": "text",
    "id": "Y1FsrBxcMn1U"
   },
   "source": [
    "### Home Ownership"
   ]
  },
  {
   "cell_type": "code",
   "execution_count": null,
   "metadata": {
    "colab": {},
    "colab_type": "code",
    "id": "yx2vlrZVMn1U",
    "outputId": "d481d98f-b778-46c3-befe-89b1e50665d6"
   },
   "outputs": [],
   "source": [
    "sns.countplot(data.home_ownership)\n",
    "plt.title('Count vs Home Ownership')\n",
    "plt.xlabel('Home Ownership')\n",
    "plt.ylabel('Count')\n",
    "plt.show()"
   ]
  },
  {
   "cell_type": "markdown",
   "metadata": {},
   "source": [
    "**Conclusions**:<br>\n",
    "The loan borrowers are mostly having rented and mortgage houses."
   ]
  },
  {
   "cell_type": "markdown",
   "metadata": {
    "colab_type": "text",
    "id": "q10ghDXkMn1g"
   },
   "source": [
    "### Verification Status"
   ]
  },
  {
   "cell_type": "code",
   "execution_count": null,
   "metadata": {
    "colab": {},
    "colab_type": "code",
    "id": "DjwCCLeXMn1g",
    "outputId": "ec97e14a-6198-4ea8-d8cd-18a16ad63c5b"
   },
   "outputs": [],
   "source": [
    "sns.countplot(data.verification_status)\n",
    "plt.title('Count vs Verification Status')\n",
    "plt.xlabel('Verification Status')\n",
    "plt.ylabel('Count')\n",
    "plt.show()"
   ]
  },
  {
   "cell_type": "markdown",
   "metadata": {
    "colab_type": "text",
    "id": "KbUTsRYlMn1i"
   },
   "source": [
    "**Conclusions**:<br>\n",
    "Majority of loans were given without verification of applicants income."
   ]
  },
  {
   "cell_type": "markdown",
   "metadata": {
    "colab_type": "text",
    "id": "RK1TO3n9Mn1l"
   },
   "source": [
    "### Loan Status"
   ]
  },
  {
   "cell_type": "code",
   "execution_count": null,
   "metadata": {
    "colab": {},
    "colab_type": "code",
    "id": "khTeZfVgMn1m",
    "outputId": "5bbea32c-eb6d-4727-ecdc-6316adc9dda4"
   },
   "outputs": [],
   "source": [
    "sns.countplot(data.loan_status)\n",
    "plt.title('Count vs Loan Status')\n",
    "plt.xlabel('Loan Status')\n",
    "plt.ylabel('Count')\n",
    "plt.show()"
   ]
  },
  {
   "cell_type": "code",
   "execution_count": null,
   "metadata": {},
   "outputs": [],
   "source": [
    "data.loan_status.value_counts()*100/data.loan_status.count()"
   ]
  },
  {
   "cell_type": "markdown",
   "metadata": {},
   "source": [
    "**Conclusions**:<br>\n",
    "83% of borrowers has paid the loan fully. where are 14% are defaulted the loan."
   ]
  },
  {
   "cell_type": "markdown",
   "metadata": {
    "colab_type": "text",
    "id": "1AKyFoN8Mn1n"
   },
   "source": [
    "### Purpose"
   ]
  },
  {
   "cell_type": "code",
   "execution_count": null,
   "metadata": {
    "colab": {},
    "colab_type": "code",
    "id": "x9dweMlvMn1o",
    "outputId": "e47b5fc4-f5f0-4369-dc51-173fd45f1777"
   },
   "outputs": [],
   "source": [
    "plt.figure(figsize=(12,4))\n",
    "sns.countplot(data.purpose, order=data.purpose.value_counts().index)\n",
    "plt.xticks(rotation=90)\n",
    "plt.title('Count vs Purpose')\n",
    "plt.xlabel('Purpose')\n",
    "plt.ylabel('Count')\n",
    "plt.show()"
   ]
  },
  {
   "cell_type": "markdown",
   "metadata": {
    "colab_type": "text",
    "id": "yfdq5XPFMn1p"
   },
   "source": [
    "**Conclusions**:<br>\n",
    "Looks line more number of people took loan for _debt consolidation_ and few people took for _renewable energy_"
   ]
  },
  {
   "cell_type": "markdown",
   "metadata": {
    "colab_type": "text",
    "id": "Jmd5znxRMn1p"
   },
   "source": [
    "### Borrower's State (add_state)"
   ]
  },
  {
   "cell_type": "code",
   "execution_count": null,
   "metadata": {
    "colab": {},
    "colab_type": "code",
    "id": "B5A21E-TMn1q",
    "outputId": "2049bb4a-f91c-4159-f72e-422fed3eca7f"
   },
   "outputs": [],
   "source": [
    "plt.figure(figsize=(20,8))\n",
    "sns.countplot(data.addr_state, order=data.addr_state.value_counts().index)\n",
    "plt.title('Count vs Borrower\\'s State')\n",
    "plt.xlabel('Borrower\\'s State')\n",
    "plt.ylabel('Count')\n",
    "plt.show()"
   ]
  },
  {
   "cell_type": "markdown",
   "metadata": {},
   "source": [
    "**Conclusions**:<br>\n",
    "Most of the borrowers are from _CA_ and _NY_"
   ]
  },
  {
   "cell_type": "markdown",
   "metadata": {},
   "source": [
    "<hr>"
   ]
  },
  {
   "cell_type": "markdown",
   "metadata": {
    "colab_type": "text",
    "id": "lH0UsRmlMn2A"
   },
   "source": [
    "## Segmented Univariate Analysis"
   ]
  },
  {
   "cell_type": "markdown",
   "metadata": {},
   "source": [
    "### Loan Amount"
   ]
  },
  {
   "cell_type": "code",
   "execution_count": 55,
   "metadata": {
    "colab": {},
    "colab_type": "code",
    "id": "nR1Wqcb8Mn2A",
    "outputId": "314ba08c-666b-47e5-cd5e-3096d835671e"
   },
   "outputs": [
    {
     "data": {
      "text/plain": [
       "<matplotlib.axes._subplots.AxesSubplot at 0x7fc54fb00090>"
      ]
     },
     "execution_count": 55,
     "metadata": {},
     "output_type": "execute_result"
    },
    {
     "data": {
      "image/png": "[encoded data removed]",
      "text/plain": [
       "<Figure size 1440x360 with 2 Axes>"
      ]
     },
     "metadata": {
      "needs_background": "light"
     },
     "output_type": "display_data"
    }
   ],
   "source": [
    "plt.figure(figsize=(20,5))\n",
    "plt.subplot(121)\n",
    "sns.boxplot(x='term', y=data.loan_amnt, data=data)\n",
    "plt.title('Terms vs Loan Amount')\n",
    "plt.subplot(122)\n",
    "plt.title('Grade vs Loan Amount')\n",
    "grade_ord = data.grade.unique()\n",
    "grade_ord.sort()\n",
    "sns.boxplot(x='grade', y=data.loan_amnt, order = grade_ord, data=data)"
   ]
  },
  {
   "cell_type": "markdown",
   "metadata": {},
   "source": [
    "**Conclusions**:<br>\n",
    "Higher amount loans have high tenure i.e, 60 months.  \n",
    "Grade 'G' and 'H' have taken max loan amount"
   ]
  },
  {
   "cell_type": "code",
   "execution_count": 56,
   "metadata": {
    "colab": {},
    "colab_type": "code",
    "id": "my47F8UQMn2B",
    "outputId": "0cf46317-0a9b-43c9-aa48-ebb335bbf696"
   },
   "outputs": [
    {
     "data": {
      "text/plain": [
       "<matplotlib.axes._subplots.AxesSubplot at 0x7fc54f96a210>"
      ]
     },
     "execution_count": 56,
     "metadata": {},
     "output_type": "execute_result"
    },
    {
     "data": {
      "image/png": "[encoded data removed]",
      "text/plain": [
       "<Figure size 1440x360 with 2 Axes>"
      ]
     },
     "metadata": {
      "needs_background": "light"
     },
     "output_type": "display_data"
    }
   ],
   "source": [
    "plt.figure(figsize=(20,5))\n",
    "plt.subplot(121)\n",
    "sns.boxplot(x='home_ownership', y=data.loan_amnt, data=data)\n",
    "plt.title('home_ownership vs Loan Amount')\n",
    "plt.subplot(122)\n",
    "plt.title('verification_status vs Loan Amount')\n",
    "verification_status_ord = data.verification_status.unique()\n",
    "verification_status_ord.sort()\n",
    "sns.boxplot(x='verification_status', y=data.loan_amnt, order = verification_status_ord, data=data)"
   ]
  },
  {
   "cell_type": "markdown",
   "metadata": {},
   "source": [
    "**Conclusion**:<br>\n",
    "more borrowers are from MORTAGE  \n",
    "And most of borrowers are verified for borrowing loan >9k"
   ]
  },
  {
   "cell_type": "code",
   "execution_count": 57,
   "metadata": {},
   "outputs": [
    {
     "data": {
      "text/plain": [
       "Text(0.5, 1.0, 'loan_status vs Loan Amount')"
      ]
     },
     "execution_count": 57,
     "metadata": {},
     "output_type": "execute_result"
    },
    {
     "data": {
      "image/png": "[encoded data removed]",
      "text/plain": [
       "<Figure size 432x288 with 1 Axes>"
      ]
     },
     "metadata": {
      "needs_background": "light"
     },
     "output_type": "display_data"
    }
   ],
   "source": [
    "sns.boxplot(x='loan_status', y=data.loan_amnt, data=data)\n",
    "plt.title('loan_status vs Loan Amount')"
   ]
  },
  {
   "cell_type": "markdown",
   "metadata": {},
   "source": [
    "**Conclusion**:<br>\n",
    "more borrowers are from Current and charged off amount <17k"
   ]
  },
  {
   "cell_type": "code",
   "execution_count": 58,
   "metadata": {},
   "outputs": [
    {
     "data": {
      "text/plain": [
       "Text(0.5, 1.0, 'purpose vs Loan Amount')"
      ]
     },
     "execution_count": 58,
     "metadata": {},
     "output_type": "execute_result"
    },
    {
     "data": {
      "image/png": "[encoded data removed]",
      "text/plain": [
       "<Figure size 1440x360 with 1 Axes>"
      ]
     },
     "metadata": {
      "needs_background": "light"
     },
     "output_type": "display_data"
    }
   ],
   "source": [
    "plt.figure(figsize=(20,5))\n",
    "sns.boxplot(x='purpose', y=data.loan_amnt, data=data)\n",
    "plt.title('purpose vs Loan Amount')"
   ]
  },
  {
   "cell_type": "markdown",
   "metadata": {},
   "source": [
    "**Conclusion**:\n",
    "more borrowers are from SmallBussiness"
   ]
  },
  {
   "cell_type": "code",
   "execution_count": 59,
   "metadata": {},
   "outputs": [
    {
     "data": {
      "text/plain": [
       "Text(0.5, 1.0, 'emp_length vs Loan Amount')"
      ]
     },
     "execution_count": 59,
     "metadata": {},
     "output_type": "execute_result"
    },
    {
     "data": {
      "image/png": "[encoded data removed]",
      "text/plain": [
       "<Figure size 1440x360 with 1 Axes>"
      ]
     },
     "metadata": {
      "needs_background": "light"
     },
     "output_type": "display_data"
    }
   ],
   "source": [
    "plt.figure(figsize=(20,5))\n",
    "sns.boxplot(x='emp_length', y=data.loan_amnt, data=data)\n",
    "plt.title('emp_length vs Loan Amount')"
   ]
  },
  {
   "cell_type": "markdown",
   "metadata": {},
   "source": [
    "**Conclusion**:\n",
    "more borrowers are from 10+ years and least is <1 year"
   ]
  },
  {
   "cell_type": "code",
   "execution_count": 60,
   "metadata": {},
   "outputs": [
    {
     "data": {
      "image/png": "[encoded data removed]",
      "text/plain": [
       "<Figure size 1440x360 with 2 Axes>"
      ]
     },
     "metadata": {
      "needs_background": "light"
     },
     "output_type": "display_data"
    }
   ],
   "source": [
    "#Issue_d\n",
    "plt.figure(figsize=(20,5))\n",
    "plt.subplot(121)\n",
    "sns.boxplot(x=data.issue_d_year, y=data.loan_amnt, data=data)\n",
    "plt.title('Issued year vs Loan Amount')\n",
    "plt.subplot(122)\n",
    "sns.boxplot(x=data.issue_d_month, y=data.loan_amnt, data=data)\n",
    "plt.title('Issued month vs Loan Amount')\n",
    "plt.show()"
   ]
  },
  {
   "cell_type": "markdown",
   "metadata": {},
   "source": [
    "**Conclusion**:<br>\n",
    "<ul>The meadian laon amount in each year did not change much but the distribution is more spread as the years increase, which means people have taken different loan amounts in each year. Few Loan borrowers took heigher loan amount in 2008 and 2011 which as there they ae plotted as ouliers.</ul>\n",
    "<ul>Loan borrowers took almost similar amounts in all the months except in December, people have taken heigher amounts as distribution is high above median.</ul>\n"
   ]
  },
  {
   "cell_type": "code",
   "execution_count": 61,
   "metadata": {},
   "outputs": [
    {
     "data": {
      "image/png": "[encoded data removed]",
      "text/plain": [
       "<Figure size 1440x432 with 1 Axes>"
      ]
     },
     "metadata": {
      "needs_background": "light"
     },
     "output_type": "display_data"
    },
    {
     "data": {
      "image/png": "[encoded data removed]",
      "text/plain": [
       "<Figure size 1440x432 with 1 Axes>"
      ]
     },
     "metadata": {
      "needs_background": "light"
     },
     "output_type": "display_data"
    }
   ],
   "source": [
    "#earliest_cr_line\n",
    "plt.figure(figsize=(20,6))\n",
    "plt.subplot(211)\n",
    "sns.boxplot(x=data.earliest_cr_line_year, y=data.loan_amnt, data=data)\n",
    "plt.xticks(rotation=90)\n",
    "plt.title('Issued year vs Loan Amount')\n",
    "plt.figure(figsize=(20,6))\n",
    "plt.subplot(212)\n",
    "sns.boxplot(x=data.earliest_cr_line_month, y=data.loan_amnt, data=data)\n",
    "plt.title('Issued month vs Loan Amount')\n",
    "plt.show()"
   ]
  },
  {
   "cell_type": "markdown",
   "metadata": {},
   "source": [
    "**Conclusions**:<br>\n",
    "Borrowers who go earliest credit line in 1964 got wide spreaded amount of loans than others."
   ]
  },
  {
   "cell_type": "markdown",
   "metadata": {},
   "source": [
    "### funded_amnt"
   ]
  },
  {
   "cell_type": "code",
   "execution_count": 62,
   "metadata": {},
   "outputs": [
    {
     "data": {
      "text/plain": [
       "<matplotlib.axes._subplots.AxesSubplot at 0x7fc54ee8a910>"
      ]
     },
     "execution_count": 62,
     "metadata": {},
     "output_type": "execute_result"
    },
    {
     "data": {
      "image/png": "[encoded data removed]",
      "text/plain": [
       "<Figure size 1440x360 with 2 Axes>"
      ]
     },
     "metadata": {
      "needs_background": "light"
     },
     "output_type": "display_data"
    }
   ],
   "source": [
    "plt.figure(figsize=(20,5))\n",
    "plt.subplot(121)\n",
    "sns.boxplot(x='term', y=data.funded_amnt, data=data)\n",
    "plt.title('Terms vs funded amount')\n",
    "plt.subplot(122)\n",
    "plt.title('Grade vs funded amount')\n",
    "grade_ord = data.grade.unique()\n",
    "grade_ord.sort()\n",
    "sns.boxplot(x='grade', y=data.funded_amnt, order = grade_ord, data=data)"
   ]
  },
  {
   "cell_type": "code",
   "execution_count": 63,
   "metadata": {},
   "outputs": [
    {
     "data": {
      "image/png": "[encoded data removed]",
      "text/plain": [
       "<Figure size 1440x360 with 2 Axes>"
      ]
     },
     "metadata": {
      "needs_background": "light"
     },
     "output_type": "display_data"
    }
   ],
   "source": [
    "#Issue_d\n",
    "plt.figure(figsize=(20,5))\n",
    "plt.subplot(121)\n",
    "sns.boxplot(x=data.issue_d_year, y=data.funded_amnt, data=data)\n",
    "plt.title('Issued year vs Funded Amount')\n",
    "plt.subplot(122)\n",
    "sns.boxplot(x=data.issue_d_month, y=data.funded_amnt, data=data)\n",
    "plt.title('Issued month vs Funded Amount')\n",
    "plt.show()"
   ]
  },
  {
   "cell_type": "code",
   "execution_count": 65,
   "metadata": {},
   "outputs": [
    {
     "data": {
      "text/plain": [
       "Text(0.5, 1.0, 'loan_status vs funded amnt')"
      ]
     },
     "execution_count": 65,
     "metadata": {},
     "output_type": "execute_result"
    },
    {
     "data": {
      "image/png": "[encoded data removed]",
      "text/plain": [
       "<Figure size 432x288 with 1 Axes>"
      ]
     },
     "metadata": {
      "needs_background": "light"
     },
     "output_type": "display_data"
    }
   ],
   "source": [
    "sns.boxplot(x='loan_status', y=data.funded_amnt, data=data)\n",
    "plt.title('loan_status vs Funded amnt')"
   ]
  },
  {
   "cell_type": "code",
   "execution_count": 66,
   "metadata": {},
   "outputs": [
    {
     "data": {
      "text/plain": [
       "Text(0.5, 1.0, 'purpose vs funded_amnt')"
      ]
     },
     "execution_count": 66,
     "metadata": {},
     "output_type": "execute_result"
    },
    {
     "data": {
      "image/png": "[encoded data removed]",
      "text/plain": [
       "<Figure size 1440x360 with 1 Axes>"
      ]
     },
     "metadata": {
      "needs_background": "light"
     },
     "output_type": "display_data"
    }
   ],
   "source": [
    "plt.figure(figsize=(20,5))\n",
    "sns.boxplot(x='purpose', y=data.funded_amnt, data=data)\n",
    "plt.title('purpose vs funded amount')"
   ]
  },
  {
   "cell_type": "code",
   "execution_count": 67,
   "metadata": {},
   "outputs": [
    {
     "data": {
      "text/plain": [
       "Text(0.5, 1.0, 'emp_length vs funded_amnt')"
      ]
     },
     "execution_count": 67,
     "metadata": {},
     "output_type": "execute_result"
    },
    {
     "data": {
      "image/png": "[encoded data removed]",
      "text/plain": [
       "<Figure size 1440x360 with 1 Axes>"
      ]
     },
     "metadata": {
      "needs_background": "light"
     },
     "output_type": "display_data"
    }
   ],
   "source": [
    "plt.figure(figsize=(20,5))\n",
    "sns.boxplot(x='emp_length', y=data.funded_amnt, data=data)\n",
    "plt.title('emp_length vs funded amount')"
   ]
  },
  {
   "cell_type": "markdown",
   "metadata": {},
   "source": [
    "**Conclusions**:<br>\n",
    "Funded amount vs issue_d date has similar pattern as loan amount and issued date."
   ]
  },
  {
   "cell_type": "markdown",
   "metadata": {},
   "source": [
    "### int_rate"
   ]
  },
  {
   "cell_type": "code",
   "execution_count": 68,
   "metadata": {},
   "outputs": [
    {
     "data": {
      "text/plain": [
       "<matplotlib.axes._subplots.AxesSubplot at 0x7fc54e63d710>"
      ]
     },
     "execution_count": 68,
     "metadata": {},
     "output_type": "execute_result"
    },
    {
     "data": {
      "image/png": "[encoded data removed]",
      "text/plain": [
       "<Figure size 1440x360 with 2 Axes>"
      ]
     },
     "metadata": {
      "needs_background": "light"
     },
     "output_type": "display_data"
    }
   ],
   "source": [
    "plt.figure(figsize=(20,5))\n",
    "plt.subplot(121)\n",
    "sns.boxplot(x='term', y=data.int_rate, data=data)\n",
    "plt.title('Terms vs Interest Rate')\n",
    "plt.subplot(122)\n",
    "plt.title('Grade vs Interest Rate')\n",
    "grade_ord = data.grade.unique()\n",
    "grade_ord.sort()\n",
    "sns.boxplot(x='grade', y=data.int_rate, order = grade_ord, data=data)"
   ]
  },
  {
   "cell_type": "code",
   "execution_count": 69,
   "metadata": {},
   "outputs": [
    {
     "data": {
      "text/plain": [
       "<matplotlib.axes._subplots.AxesSubplot at 0x7fc54eb300d0>"
      ]
     },
     "execution_count": 69,
     "metadata": {},
     "output_type": "execute_result"
    },
    {
     "data": {
      "image/png": "[encoded data removed]",
      "text/plain": [
       "<Figure size 1440x360 with 2 Axes>"
      ]
     },
     "metadata": {
      "needs_background": "light"
     },
     "output_type": "display_data"
    }
   ],
   "source": [
    "plt.figure(figsize=(20,5))\n",
    "plt.subplot(121)\n",
    "sns.boxplot(x='home_ownership', y=data.int_rate, data=data)\n",
    "plt.title('home_ownership vs Interest Rate')\n",
    "plt.subplot(122)\n",
    "plt.title('verification_status vs Interest Rate')\n",
    "verification_status_ord = data.verification_status.unique()\n",
    "verification_status_ord.sort()\n",
    "sns.boxplot(x='verification_status', y=data.int_rate, order = verification_status_ord, data=data)"
   ]
  },
  {
   "cell_type": "code",
   "execution_count": null,
   "metadata": {},
   "outputs": [],
   "source": [
    "sns.boxplot(x='loan_status', y=data.int_rate, data=data)\n",
    "plt.title('loan_status vs Interest Rate')"
   ]
  },
  {
   "cell_type": "code",
   "execution_count": null,
   "metadata": {},
   "outputs": [],
   "source": [
    "plt.figure(figsize=(20,5))\n",
    "sns.boxplot(x='purpose', y=data.int_rate, data=data)\n",
    "plt.title('purpose vs Interest Rate')"
   ]
  },
  {
   "cell_type": "code",
   "execution_count": null,
   "metadata": {},
   "outputs": [],
   "source": [
    "plt.figure(figsize=(20,5))\n",
    "sns.boxplot(x='emp_length', y=data.int_rate, data=data)\n",
    "plt.title('emp_length vs Interest Rate')"
   ]
  },
  {
   "cell_type": "code",
   "execution_count": null,
   "metadata": {},
   "outputs": [],
   "source": [
    "#Issue_d\n",
    "plt.figure(figsize=(20,5))\n",
    "plt.subplot(121)\n",
    "sns.boxplot(x=data.issue_d_year, y=data.int_rate, data=data)\n",
    "plt.title('Issued year vs Interest Rate')\n",
    "plt.subplot(122)\n",
    "sns.boxplot(x=data.issue_d_month, y=data.int_rate, data=data)\n",
    "plt.title('Issued month vs Interest Rate')\n",
    "plt.show()"
   ]
  },
  {
   "cell_type": "markdown",
   "metadata": {},
   "source": [
    "**Conclusions**:<br>\n"
   ]
  },
  {
   "cell_type": "markdown",
   "metadata": {},
   "source": [
    "# installment"
   ]
  },
  {
   "cell_type": "code",
   "execution_count": null,
   "metadata": {},
   "outputs": [],
   "source": [
    "plt.figure(figsize=(20,5))\n",
    "plt.subplot(121)\n",
    "sns.boxplot(x='term', y=data.installment, data=data)\n",
    "plt.title('Terms vs Installment')\n",
    "plt.subplot(122)\n",
    "plt.title('Grade vs Installment')\n",
    "grade_ord = data.grade.unique()\n",
    "grade_ord.sort()\n",
    "sns.boxplot(x='grade', y=data.installment, order = grade_ord, data=data)"
   ]
  },
  {
   "cell_type": "code",
   "execution_count": null,
   "metadata": {},
   "outputs": [],
   "source": [
    "plt.figure(figsize=(20,5))\n",
    "plt.subplot(121)\n",
    "sns.boxplot(x='home_ownership', y=data.installment, data=data)\n",
    "plt.title('home_ownership vs installment')\n",
    "plt.subplot(122)\n",
    "plt.title('verification_status vs installment')\n",
    "verification_status_ord = data.verification_status.unique()\n",
    "verification_status_ord.sort()\n",
    "sns.boxplot(x='verification_status', y=data.installment, order = verification_status_ord, data=data)"
   ]
  },
  {
   "cell_type": "code",
   "execution_count": null,
   "metadata": {},
   "outputs": [],
   "source": [
    "sns.boxplot(x='loan_status', y=data.installment, data=data)\n",
    "plt.title('loan_status vs installment')"
   ]
  },
  {
   "cell_type": "code",
   "execution_count": null,
   "metadata": {},
   "outputs": [],
   "source": [
    "plt.figure(figsize=(20,5))\n",
    "sns.boxplot(x='purpose', y=data.installment, data=data)\n",
    "plt.title('purpose vs installment')"
   ]
  },
  {
   "cell_type": "code",
   "execution_count": null,
   "metadata": {},
   "outputs": [],
   "source": [
    "plt.figure(figsize=(20,5))\n",
    "sns.boxplot(x='emp_length', y=data.installment, data=data)\n",
    "plt.title('emp_length vs installment')"
   ]
  },
  {
   "cell_type": "markdown",
   "metadata": {},
   "source": [
    "# annual_inc"
   ]
  },
  {
   "cell_type": "code",
   "execution_count": null,
   "metadata": {},
   "outputs": [],
   "source": [
    "plt.figure(figsize=(20,5))\n",
    "plt.subplot(121)\n",
    "sns.boxplot(x='term', y=data.annual_inc, data=data)\n",
    "plt.title('Terms vs annual income')\n",
    "plt.subplot(122)\n",
    "plt.title('Grade vs annual income')\n",
    "grade_ord = data.grade.unique()\n",
    "grade_ord.sort()\n",
    "sns.boxplot(x='grade', y=data.annual_inc, order = grade_ord, data=data)"
   ]
  },
  {
   "cell_type": "code",
   "execution_count": null,
   "metadata": {},
   "outputs": [],
   "source": [
    "plt.figure(figsize=(20,5))\n",
    "plt.subplot(121)\n",
    "sns.boxplot(x='home_ownership', y=data.annual_inc, data=data)\n",
    "plt.title('home_ownership vs annual income')\n",
    "plt.subplot(122)\n",
    "plt.title('verification_status vs annual income')\n",
    "verification_status_ord = data.verification_status.unique()\n",
    "verification_status_ord.sort()\n",
    "sns.boxplot(x='verification_status', y=data.annual_inc, order = verification_status_ord, data=data)"
   ]
  },
  {
   "cell_type": "code",
   "execution_count": null,
   "metadata": {},
   "outputs": [],
   "source": [
    "sns.boxplot(x='loan_status', y=data.annual_inc, data=data)\n",
    "plt.title('loan_status vs annual income')"
   ]
  },
  {
   "cell_type": "code",
   "execution_count": null,
   "metadata": {},
   "outputs": [],
   "source": [
    "plt.figure(figsize=(20,5))\n",
    "sns.boxplot(x='purpose', y=data.annual_inc, data=data)\n",
    "plt.title('purpose vs annual income')"
   ]
  },
  {
   "cell_type": "code",
   "execution_count": null,
   "metadata": {},
   "outputs": [],
   "source": [
    "plt.figure(figsize=(20,5))\n",
    "sns.boxplot(x='emp_length', y=data.annual_inc, data=data)\n",
    "plt.title('emp_length vs annual income')"
   ]
  },
  {
   "cell_type": "markdown",
   "metadata": {},
   "source": [
    "# dti"
   ]
  },
  {
   "cell_type": "code",
   "execution_count": null,
   "metadata": {},
   "outputs": [],
   "source": [
    "plt.figure(figsize=(20,5))\n",
    "plt.subplot(121)\n",
    "sns.boxplot(x='term', y=data.dti, data=data)\n",
    "plt.title('Terms vs dti')\n",
    "plt.subplot(122)\n",
    "plt.title('Grade vs dti')\n",
    "grade_ord = data.grade.unique()\n",
    "grade_ord.sort()\n",
    "sns.boxplot(x='grade', y=data.dti, order = grade_ord, data=data)"
   ]
  },
  {
   "cell_type": "code",
   "execution_count": null,
   "metadata": {},
   "outputs": [],
   "source": [
    "plt.figure(figsize=(20,5))\n",
    "plt.subplot(121)\n",
    "sns.boxplot(x='home_ownership', y=data.dti, data=data)\n",
    "plt.title('home_ownership vs dti')\n",
    "plt.subplot(122)\n",
    "plt.title('verification_status vs dti')\n",
    "verification_status_ord = data.verification_status.unique()\n",
    "verification_status_ord.sort()\n",
    "sns.boxplot(x='verification_status', y=data.dti, order = verification_status_ord, data=data)"
   ]
  },
  {
   "cell_type": "code",
   "execution_count": null,
   "metadata": {},
   "outputs": [],
   "source": [
    "sns.boxplot(x='loan_status', y=data.dti, data=data)\n",
    "plt.title('loan_status vs dti')"
   ]
  },
  {
   "cell_type": "code",
   "execution_count": null,
   "metadata": {},
   "outputs": [],
   "source": [
    "plt.figure(figsize=(20,5))\n",
    "sns.boxplot(x='purpose', y=data.dti, data=data)\n",
    "plt.title('purpose vs dti')"
   ]
  },
  {
   "cell_type": "code",
   "execution_count": null,
   "metadata": {},
   "outputs": [],
   "source": [
    "plt.figure(figsize=(20,5))\n",
    "sns.boxplot(x='emp_length', y=data.dti, data=data)\n",
    "plt.title('emp_length vs dti')"
   ]
  },
  {
   "cell_type": "markdown",
   "metadata": {},
   "source": [
    "# revol_bal"
   ]
  },
  {
   "cell_type": "code",
   "execution_count": null,
   "metadata": {},
   "outputs": [],
   "source": [
    "plt.figure(figsize=(20,5))\n",
    "plt.subplot(121)\n",
    "sns.boxplot(x='term', y=data.revol_bal, data=data)\n",
    "plt.title('Terms vs Revol balance')\n",
    "plt.subplot(122)\n",
    "plt.title('Grade vs Revol balance')\n",
    "grade_ord = data.grade.unique()\n",
    "grade_ord.sort()\n",
    "sns.boxplot(x='grade', y=data.revol_bal, order = grade_ord, data=data)"
   ]
  },
  {
   "cell_type": "code",
   "execution_count": null,
   "metadata": {},
   "outputs": [],
   "source": [
    "plt.figure(figsize=(20,5))\n",
    "plt.subplot(121)\n",
    "sns.boxplot(x='home_ownership', y=data.revol_bal, data=data)\n",
    "plt.title('Home ownership vs Revol balance')\n",
    "plt.subplot(122)\n",
    "plt.title('verification_status vs Revol balance')\n",
    "verification_status_ord = data.verification_status.unique()\n",
    "verification_status_ord.sort()\n",
    "sns.boxplot(x='verification_status', y=data.revol_bal, order = verification_status_ord, data=data)"
   ]
  },
  {
   "cell_type": "code",
   "execution_count": null,
   "metadata": {},
   "outputs": [],
   "source": [
    "sns.boxplot(x='loan_status', y=data.revol_bal, data=data)\n",
    "plt.title('loan_status vs revol_bal')"
   ]
  },
  {
   "cell_type": "code",
   "execution_count": null,
   "metadata": {},
   "outputs": [],
   "source": [
    "plt.figure(figsize=(20,5))\n",
    "sns.boxplot(x='purpose', y=data.revol_bal, data=data)\n",
    "plt.title('purpose vs revol_bal')"
   ]
  },
  {
   "cell_type": "code",
   "execution_count": null,
   "metadata": {},
   "outputs": [],
   "source": [
    "plt.figure(figsize=(20,5))\n",
    "sns.boxplot(x='emp_length', y=data.revol_bal, data=data)\n",
    "plt.title('employee length vs revol_bal')"
   ]
  },
  {
   "cell_type": "markdown",
   "metadata": {},
   "source": [
    "# revol_util"
   ]
  },
  {
   "cell_type": "code",
   "execution_count": null,
   "metadata": {},
   "outputs": [],
   "source": [
    "plt.figure(figsize=(20,5))\n",
    "plt.subplot(121)\n",
    "sns.boxplot(x='term', y=data.revol_util, data=data)\n",
    "plt.title('Terms vs revol_util')\n",
    "plt.subplot(122)\n",
    "plt.title('Grade vs revol_util')\n",
    "grade_ord = data.grade.unique()\n",
    "grade_ord.sort()\n",
    "sns.boxplot(x='grade', y=data.revol_util, order = grade_ord, data=data)"
   ]
  },
  {
   "cell_type": "code",
   "execution_count": null,
   "metadata": {},
   "outputs": [],
   "source": [
    "plt.figure(figsize=(20,5))\n",
    "plt.subplot(121)\n",
    "sns.boxplot(x='home_ownership', y=data.revol_util, data=data)\n",
    "plt.title('home_ownership vs Revol util')\n",
    "plt.subplot(122)\n",
    "plt.title('verification_status vs Revol util')\n",
    "verification_status_ord = data.verification_status.unique()\n",
    "verification_status_ord.sort()\n",
    "sns.boxplot(x='verification_status', y=data.revol_util, order = verification_status_ord, data=data)"
   ]
  },
  {
   "cell_type": "code",
   "execution_count": null,
   "metadata": {},
   "outputs": [],
   "source": [
    "sns.boxplot(x='loan_status', y=data.revol_util, data=data)\n",
    "plt.title('loan_status vs Revol util')"
   ]
  },
  {
   "cell_type": "code",
   "execution_count": null,
   "metadata": {},
   "outputs": [],
   "source": [
    "plt.figure(figsize=(20,5))\n",
    "sns.boxplot(x='purpose', y=data.revol_util, data=data)\n",
    "plt.title('purpose vs Revol util')"
   ]
  },
  {
   "cell_type": "code",
   "execution_count": null,
   "metadata": {},
   "outputs": [],
   "source": [
    "plt.figure(figsize=(20,5))\n",
    "sns.boxplot(x='emp_length', y=data.revol_util, data=data)\n",
    "plt.title('emp_length vs Revol util')"
   ]
  },
  {
   "cell_type": "markdown",
   "metadata": {},
   "source": [
    "# total_acc"
   ]
  },
  {
   "cell_type": "code",
   "execution_count": null,
   "metadata": {},
   "outputs": [],
   "source": [
    "plt.figure(figsize=(20,5))\n",
    "plt.subplot(121)\n",
    "sns.boxplot(x='term', y=data.total_acc, data=data)\n",
    "plt.title('Terms vs Total account')\n",
    "plt.subplot(122)\n",
    "plt.title('Grade vs Total account')\n",
    "grade_ord = data.grade.unique()\n",
    "grade_ord.sort()\n",
    "sns.boxplot(x='grade', y=data.total_acc, order = grade_ord, data=data)"
   ]
  },
  {
   "cell_type": "code",
   "execution_count": null,
   "metadata": {},
   "outputs": [],
   "source": [
    "plt.figure(figsize=(20,5))\n",
    "plt.subplot(121)\n",
    "sns.boxplot(x='home_ownership', y=data.total_acc, data=data)\n",
    "plt.title('home_ownership vs Total account')\n",
    "plt.subplot(122)\n",
    "plt.title('verification_status vs Total account')\n",
    "verification_status_ord = data.verification_status.unique()\n",
    "verification_status_ord.sort()\n",
    "sns.boxplot(x='verification_status', y=data.total_acc, order = verification_status_ord, data=data)"
   ]
  },
  {
   "cell_type": "code",
   "execution_count": null,
   "metadata": {},
   "outputs": [],
   "source": [
    "sns.boxplot(x='loan_status', y=data.total_acc, data=data)\n",
    "plt.title('loan status vs Total account')"
   ]
  },
  {
   "cell_type": "code",
   "execution_count": null,
   "metadata": {},
   "outputs": [],
   "source": [
    "plt.figure(figsize=(20,5))\n",
    "sns.boxplot(x='purpose', y=data.total_acc, data=data)\n",
    "plt.title('purpose vs Total account')"
   ]
  },
  {
   "cell_type": "code",
   "execution_count": null,
   "metadata": {},
   "outputs": [],
   "source": [
    "plt.figure(figsize=(20,5))\n",
    "sns.boxplot(x='emp_length', y=data.total_acc, data=data)\n",
    "plt.title('emp_length vs Total account')"
   ]
  },
  {
   "cell_type": "markdown",
   "metadata": {},
   "source": [
    "# total_pymnt"
   ]
  },
  {
   "cell_type": "code",
   "execution_count": null,
   "metadata": {},
   "outputs": [],
   "source": [
    "plt.figure(figsize=(20,5))\n",
    "plt.subplot(121)\n",
    "sns.boxplot(x='term', y=data.total_pymnt, data=data)\n",
    "plt.title('Terms vs Total payment')\n",
    "plt.subplot(122)\n",
    "plt.title('Grade vs Total payment')\n",
    "grade_ord = data.grade.unique()\n",
    "grade_ord.sort()\n",
    "sns.boxplot(x='grade', y=data.total_pymnt, order = grade_ord, data=data)"
   ]
  },
  {
   "cell_type": "code",
   "execution_count": null,
   "metadata": {},
   "outputs": [],
   "source": [
    "plt.figure(figsize=(20,5))\n",
    "plt.subplot(121)\n",
    "sns.boxplot(x='home_ownership', y=data.total_pymnt, data=data)\n",
    "plt.title('home_ownership vs Total payment')\n",
    "plt.subplot(122)\n",
    "plt.title('verification_status vs Total payment')\n",
    "verification_status_ord = data.verification_status.unique()\n",
    "verification_status_ord.sort()\n",
    "sns.boxplot(x='verification_status', y=data.total_pymnt, order = verification_status_ord, data=data)"
   ]
  },
  {
   "cell_type": "code",
   "execution_count": null,
   "metadata": {},
   "outputs": [],
   "source": [
    "sns.boxplot(x='loan_status', y=data.total_pymnt, data=data)\n",
    "plt.title('loan_status vs Total payment')"
   ]
  },
  {
   "cell_type": "code",
   "execution_count": null,
   "metadata": {},
   "outputs": [],
   "source": [
    "plt.figure(figsize=(20,5))\n",
    "sns.boxplot(x='purpose', y=data.total_pymnt, data=data)\n",
    "plt.title('purpose vs Total payment')"
   ]
  },
  {
   "cell_type": "code",
   "execution_count": null,
   "metadata": {},
   "outputs": [],
   "source": [
    "plt.figure(figsize=(20,5))\n",
    "sns.boxplot(x='emp_length', y=data.total_pymnt, data=data)\n",
    "plt.title('emp_length vs Total payment')"
   ]
  },
  {
   "cell_type": "markdown",
   "metadata": {},
   "source": [
    "# total_pymnt_inv"
   ]
  },
  {
   "cell_type": "code",
   "execution_count": null,
   "metadata": {},
   "outputs": [],
   "source": [
    "plt.figure(figsize=(20,5))\n",
    "plt.subplot(121)\n",
    "sns.boxplot(x='term', y=data.total_pymnt_inv, data=data)\n",
    "plt.title('Terms vs Total payment investment')\n",
    "plt.subplot(122)\n",
    "plt.title('Grade vs Total payment investment')\n",
    "grade_ord = data.grade.unique()\n",
    "grade_ord.sort()\n",
    "sns.boxplot(x='grade', y=data.total_pymnt_inv, order = grade_ord, data=data)"
   ]
  },
  {
   "cell_type": "code",
   "execution_count": null,
   "metadata": {},
   "outputs": [],
   "source": [
    "plt.figure(figsize=(20,5))\n",
    "plt.subplot(121)\n",
    "sns.boxplot(x='home_ownership', y=data.total_pymnt_inv, data=data)\n",
    "plt.title('home_ownership vs Total payment investment')\n",
    "plt.subplot(122)\n",
    "plt.title('verification_status vs Total payment investment')\n",
    "verification_status_ord = data.verification_status.unique()\n",
    "verification_status_ord.sort()\n",
    "sns.boxplot(x='verification_status', y=data.total_pymnt_inv, order = verification_status_ord, data=data)"
   ]
  },
  {
   "cell_type": "code",
   "execution_count": null,
   "metadata": {},
   "outputs": [],
   "source": [
    "sns.boxplot(x='loan_status', y=data.total_pymnt_inv, data=data)\n",
    "plt.title('loan_status vs Total payment investment')"
   ]
  },
  {
   "cell_type": "code",
   "execution_count": null,
   "metadata": {},
   "outputs": [],
   "source": [
    "plt.figure(figsize=(20,5))\n",
    "sns.boxplot(x='purpose', y=data.total_pymnt_inv, data=data)\n",
    "plt.title('purpose vs Total payment investment')"
   ]
  },
  {
   "cell_type": "code",
   "execution_count": null,
   "metadata": {},
   "outputs": [],
   "source": [
    "plt.figure(figsize=(20,5))\n",
    "sns.boxplot(x='emp_length', y=data.total_pymnt_inv, data=data)\n",
    "plt.title('emp_length vs Total payment investment')"
   ]
  },
  {
   "cell_type": "markdown",
   "metadata": {},
   "source": [
    "# total_rec_int"
   ]
  },
  {
   "cell_type": "code",
   "execution_count": null,
   "metadata": {},
   "outputs": [],
   "source": [
    "plt.figure(figsize=(20,5))\n",
    "plt.subplot(121)\n",
    "sns.boxplot(x='term', y=data.total_rec_int, data=data)\n",
    "plt.title('Terms vs Total record int')\n",
    "plt.subplot(122)\n",
    "plt.title('Grade vs Total record int')\n",
    "grade_ord = data.grade.unique()\n",
    "grade_ord.sort()\n",
    "sns.boxplot(x='grade', y=data.total_rec_int, order = grade_ord, data=data)"
   ]
  },
  {
   "cell_type": "code",
   "execution_count": null,
   "metadata": {},
   "outputs": [],
   "source": [
    "plt.figure(figsize=(20,5))\n",
    "plt.subplot(121)\n",
    "sns.boxplot(x='home_ownership', y=data.total_rec_int, data=data)\n",
    "plt.title('home_ownership vs Total record int')\n",
    "plt.subplot(122)\n",
    "plt.title('verification_status vs Total record int')\n",
    "verification_status_ord = data.verification_status.unique()\n",
    "verification_status_ord.sort()\n",
    "sns.boxplot(x='verification_status', y=data.total_rec_int, order = verification_status_ord, data=data)"
   ]
  },
  {
   "cell_type": "code",
   "execution_count": null,
   "metadata": {},
   "outputs": [],
   "source": [
    "sns.boxplot(x='loan_status', y=data.total_rec_int, data=data)\n",
    "plt.title('loan_status vs Total record int')"
   ]
  },
  {
   "cell_type": "code",
   "execution_count": null,
   "metadata": {},
   "outputs": [],
   "source": [
    "plt.figure(figsize=(20,5))\n",
    "sns.boxplot(x='purpose', y=data.total_rec_int, data=data)\n",
    "plt.title('purpose vs Total record int')"
   ]
  },
  {
   "cell_type": "code",
   "execution_count": null,
   "metadata": {},
   "outputs": [],
   "source": [
    "plt.figure(figsize=(20,5))\n",
    "sns.boxplot(x='emp_length', y=data.total_rec_int, data=data)\n",
    "plt.title('emp_length vs Total record int')"
   ]
  },
  {
   "cell_type": "markdown",
   "metadata": {},
   "source": [
    "# total_rec_late_fee"
   ]
  },
  {
   "cell_type": "code",
   "execution_count": null,
   "metadata": {},
   "outputs": [],
   "source": [
    "plt.figure(figsize=(20,5))\n",
    "plt.subplot(121)\n",
    "sns.boxplot(x='term', y=data.total_rec_late_fee, data=data)\n",
    "plt.title('Terms vs total_rec_late_fee')\n",
    "plt.subplot(122)\n",
    "plt.title('Grade vs total_rec_late_fee')\n",
    "grade_ord = data.grade.unique()\n",
    "grade_ord.sort()\n",
    "sns.boxplot(x='grade', y=data.total_rec_late_fee, order = grade_ord, data=data)"
   ]
  },
  {
   "cell_type": "code",
   "execution_count": null,
   "metadata": {},
   "outputs": [],
   "source": [
    "plt.figure(figsize=(20,5))\n",
    "plt.subplot(121)\n",
    "sns.boxplot(x='home_ownership', y=data.total_rec_late_fee, data=data)\n",
    "plt.title('home_ownership vs total_rec_late_fee')\n",
    "plt.subplot(122)\n",
    "plt.title('verification_status vs total_rec_late_fee')\n",
    "verification_status_ord = data.verification_status.unique()\n",
    "verification_status_ord.sort()\n",
    "sns.boxplot(x='verification_status', y=data.total_rec_late_fee, order = verification_status_ord, data=data)"
   ]
  },
  {
   "cell_type": "code",
   "execution_count": null,
   "metadata": {},
   "outputs": [],
   "source": [
    "sns.boxplot(x='loan_status', y=data.total_rec_late_fee, data=data)\n",
    "plt.title('loan_status vs total_rec_late_fee')"
   ]
  },
  {
   "cell_type": "code",
   "execution_count": null,
   "metadata": {},
   "outputs": [],
   "source": [
    "plt.figure(figsize=(20,5))\n",
    "sns.boxplot(x='purpose', y=data.total_rec_late_fee, data=data)\n",
    "plt.title('purpose vs total_rec_late_fee')"
   ]
  },
  {
   "cell_type": "code",
   "execution_count": null,
   "metadata": {},
   "outputs": [],
   "source": [
    "plt.figure(figsize=(20,5))\n",
    "sns.boxplot(x='emp_length', y=data.total_rec_late_fee, data=data)\n",
    "plt.title('emp_length vs total_rec_late_fee')"
   ]
  },
  {
   "cell_type": "markdown",
   "metadata": {},
   "source": [
    "# recoveries"
   ]
  },
  {
   "cell_type": "code",
   "execution_count": null,
   "metadata": {},
   "outputs": [],
   "source": [
    "plt.figure(figsize=(20,5))\n",
    "plt.subplot(121)\n",
    "sns.boxplot(x='term', y=data.recoveries, data=data)\n",
    "plt.title('Terms vs recoveries')\n",
    "plt.subplot(122)\n",
    "plt.title('Grade vs recoveries')\n",
    "grade_ord = data.grade.unique()\n",
    "grade_ord.sort()\n",
    "sns.boxplot(x='grade', y=data.recoveries, order = grade_ord, data=data)"
   ]
  },
  {
   "cell_type": "code",
   "execution_count": null,
   "metadata": {},
   "outputs": [],
   "source": [
    "plt.figure(figsize=(20,5))\n",
    "plt.subplot(121)\n",
    "sns.boxplot(x='home_ownership', y=data.recoveries, data=data)\n",
    "plt.title('home_ownership vs recoveries')\n",
    "plt.subplot(122)\n",
    "plt.title('verification_status vs recoveries')\n",
    "verification_status_ord = data.verification_status.unique()\n",
    "verification_status_ord.sort()\n",
    "sns.boxplot(x='verification_status', y=data.recoveries, order = verification_status_ord, data=data)"
   ]
  },
  {
   "cell_type": "code",
   "execution_count": null,
   "metadata": {},
   "outputs": [],
   "source": [
    "sns.boxplot(x='loan_status', y=data.recoveries, data=data)\n",
    "plt.title('loan status vs Recoveries')"
   ]
  },
  {
   "cell_type": "code",
   "execution_count": null,
   "metadata": {},
   "outputs": [],
   "source": [
    "plt.figure(figsize=(20,5))\n",
    "sns.boxplot(x='purpose', y=data.recoveries, data=data)\n",
    "plt.title('Purpose vs Recoveries')"
   ]
  },
  {
   "cell_type": "code",
   "execution_count": null,
   "metadata": {},
   "outputs": [],
   "source": [
    "plt.figure(figsize=(20,5))\n",
    "sns.boxplot(x='emp_length', y=data.recoveries, data=data)\n",
    "plt.title('Employeelength vs Recoveries')"
   ]
  },
  {
   "cell_type": "markdown",
   "metadata": {},
   "source": [
    "# collection_recovery_fee"
   ]
  },
  {
   "cell_type": "code",
   "execution_count": null,
   "metadata": {},
   "outputs": [],
   "source": [
    "plt.figure(figsize=(20,5))\n",
    "plt.subplot(121)\n",
    "sns.boxplot(x='term', y=data.collection_recovery_fee, data=data)\n",
    "plt.title('Terms vs Collection_recovery_fee')\n",
    "plt.subplot(122)\n",
    "plt.title('Grade vs Collection recovery fee')\n",
    "grade_ord = data.grade.unique()\n",
    "grade_ord.sort()\n",
    "sns.boxplot(x='grade', y=data.collection_recovery_fee, order = grade_ord, data=data)"
   ]
  },
  {
   "cell_type": "code",
   "execution_count": null,
   "metadata": {},
   "outputs": [],
   "source": [
    "plt.figure(figsize=(20,5))\n",
    "plt.subplot(121)\n",
    "sns.boxplot(x='home_ownership', y=data.collection_recovery_fee, data=data)\n",
    "plt.title('Home ownership vs Collection recovery fee')\n",
    "plt.subplot(122)\n",
    "plt.title('Verification status vs Collection recovery fee')\n",
    "verification_status_ord = data.verification_status.unique()\n",
    "verification_status_ord.sort()\n",
    "sns.boxplot(x='verification_status', y=data.collection_recovery_fee, order = verification_status_ord, data=data)"
   ]
  },
  {
   "cell_type": "code",
   "execution_count": null,
   "metadata": {},
   "outputs": [],
   "source": [
    "sns.boxplot(x='loan_status', y=data.collection_recovery_fee, data=data)\n",
    "plt.title('loan_status vs Collection recovery fee')"
   ]
  },
  {
   "cell_type": "code",
   "execution_count": null,
   "metadata": {},
   "outputs": [],
   "source": [
    "plt.figure(figsize=(20,5))\n",
    "sns.boxplot(x='purpose', y=data.collection_recovery_fee, data=data)\n",
    "plt.title('purpose vs Collection recovery fee')"
   ]
  },
  {
   "cell_type": "code",
   "execution_count": null,
   "metadata": {},
   "outputs": [],
   "source": [
    "plt.figure(figsize=(20,5))\n",
    "sns.boxplot(x='emp_length', y=data.collection_recovery_fee, data=data)\n",
    "plt.title('employee length vs Collection recovery fee')"
   ]
  },
  {
   "cell_type": "markdown",
   "metadata": {},
   "source": [
    "# last_pymnt_amnt"
   ]
  },
  {
   "cell_type": "code",
   "execution_count": null,
   "metadata": {},
   "outputs": [],
   "source": [
    "plt.figure(figsize=(20,5))\n",
    "plt.subplot(121)\n",
    "sns.boxplot(x='term', y=data.last_pymnt_amnt, data=data)\n",
    "plt.title('Terms vs last_pymnt_amnt')\n",
    "plt.subplot(122)\n",
    "plt.title('Grade vs last_pymnt_amnt')\n",
    "grade_ord = data.grade.unique()\n",
    "grade_ord.sort()\n",
    "sns.boxplot(x='grade', y=data.last_pymnt_amnt, order = grade_ord, data=data)"
   ]
  },
  {
   "cell_type": "code",
   "execution_count": null,
   "metadata": {},
   "outputs": [],
   "source": [
    "plt.figure(figsize=(20,5))\n",
    "plt.subplot(121)\n",
    "sns.boxplot(x='home_ownership', y=data.last_pymnt_amnt, data=data)\n",
    "plt.title('home_ownership vs Last payment amount')\n",
    "plt.subplot(122)\n",
    "plt.title('verification_status vs Last payment amount')\n",
    "verification_status_ord = data.verification_status.unique()\n",
    "verification_status_ord.sort()\n",
    "sns.boxplot(x='verification_status', y=data.last_pymnt_amnt, order = verification_status_ord, data=data)"
   ]
  },
  {
   "cell_type": "code",
   "execution_count": null,
   "metadata": {},
   "outputs": [],
   "source": [
    "sns.boxplot(x='loan_status', y=data.last_pymnt_amnt, data=data)\n",
    "plt.title('loan_status vs Last payment amount')"
   ]
  },
  {
   "cell_type": "code",
   "execution_count": null,
   "metadata": {},
   "outputs": [],
   "source": [
    "plt.figure(figsize=(20,5))\n",
    "sns.boxplot(x='purpose', y=data.last_pymnt_amnt, data=data)\n",
    "plt.title('purpose vs Last payment amount')"
   ]
  },
  {
   "cell_type": "code",
   "execution_count": null,
   "metadata": {},
   "outputs": [],
   "source": [
    "plt.figure(figsize=(20,5))\n",
    "sns.boxplot(x='emp_length', y=data.last_pymnt_amnt, data=data)\n",
    "plt.title('Employee length vs Last payment amount')"
   ]
  },
  {
   "cell_type": "markdown",
   "metadata": {},
   "source": [
    "# total_rec_prncp"
   ]
  },
  {
   "cell_type": "code",
   "execution_count": null,
   "metadata": {},
   "outputs": [],
   "source": [
    "plt.figure(figsize=(20,5))\n",
    "plt.subplot(121)\n",
    "sns.boxplot(x='term', y=data.total_rec_prncp, data=data)\n",
    "plt.title('Terms vs Total Record principal')\n",
    "plt.subplot(122)\n",
    "plt.title('Grade vs Total Record principal')\n",
    "grade_ord = data.grade.unique()\n",
    "grade_ord.sort()\n",
    "sns.boxplot(x='grade', y=data.total_rec_prncp, order = grade_ord, data=data)"
   ]
  },
  {
   "cell_type": "code",
   "execution_count": null,
   "metadata": {},
   "outputs": [],
   "source": [
    "plt.figure(figsize=(20,5))\n",
    "plt.subplot(121)\n",
    "sns.boxplot(x='home_ownership', y=data.total_rec_prncp, data=data)\n",
    "plt.title('Home ownership vs Total Record principal')\n",
    "plt.subplot(122)\n",
    "plt.title('Verification status vs Total Record principal')\n",
    "verification_status_ord = data.verification_status.unique()\n",
    "verification_status_ord.sort()\n",
    "sns.boxplot(x='verification_status', y=data.total_rec_prncp, order = verification_status_ord, data=data)"
   ]
  },
  {
   "cell_type": "code",
   "execution_count": null,
   "metadata": {},
   "outputs": [],
   "source": [
    "sns.boxplot(x='loan_status', y=data.total_rec_prncp, data=data)\n",
    "plt.title('loan status vs Total Record principal')"
   ]
  },
  {
   "cell_type": "code",
   "execution_count": null,
   "metadata": {},
   "outputs": [],
   "source": [
    "plt.figure(figsize=(20,5))\n",
    "sns.boxplot(x='purpose', y=data.total_rec_prncp, data=data)\n",
    "plt.title('Purpose vs Total Record principal')"
   ]
  },
  {
   "cell_type": "code",
   "execution_count": null,
   "metadata": {},
   "outputs": [],
   "source": [
    "plt.figure(figsize=(20,5))\n",
    "sns.boxplot(x='emp_length', y=data.total_rec_prncp, data=data)\n",
    "plt.title('Employee length vs Total Record principal')"
   ]
  },
  {
   "cell_type": "markdown",
   "metadata": {},
   "source": []
  },
  {
   "cell_type": "code",
   "execution_count": null,
   "metadata": {
    "colab": {},
    "colab_type": "code",
    "id": "Ij8OU0hoMn2X"
   },
   "outputs": [],
   "source": []
  },
  {
   "cell_type": "code",
   "execution_count": null,
   "metadata": {
    "colab": {},
    "colab_type": "code",
    "id": "0P9bmHGtMn2Y"
   },
   "outputs": [],
   "source": [
    "#corr_matrix = data.corr()\n",
    "#plt.figure(figsize=(20,20))\n",
    "#ax = sns.heatmap(corr_matrix, annot = True, cmap='Blues')\n",
    "#top, bottom = ax.get_ylim()\n",
    "#ax.set_ylim(top+0.5, bottom-0.5)"
   ]
  },
  {
   "cell_type": "code",
   "execution_count": null,
   "metadata": {
    "colab": {},
    "colab_type": "code",
    "id": "6j5c9efvMn2Z"
   },
   "outputs": [],
   "source": []
  }
 ],
 "metadata": {
  "colab": {
   "collapsed_sections": [
    "lP5Vlk4nMnze",
    "n2skazwiMnzf",
    "FGhVZw1pMnzq",
    "FKPeaKNnMnz2",
    "ofzgXSDmMn0C",
    "8xPxVdoHMn0F",
    "lAgExjhuMn0I",
    "pqbsa4MJMn0K",
    "CQIQmTO3Mn0N",
    "_o8jHTaxMn0Q",
    "ONVWmF_uMn0U",
    "VOazDrK3Mn0X",
    "C2JcPyaUMn0a",
    "LAtbtSI4Mn0c",
    "LNEWxwm2Mn0f",
    "2QA2mQBiMn0h",
    "aitIctolMn0k",
    "78XyC6Q1Mn0m",
    "5wgUhby4Mn0q",
    "wCKxgbRhMn0u",
    "qOoPuw6MMn0x",
    "qym_vUPXMn0z",
    "SaeJ_9G8Mn04",
    "IEmdcqEBMn08",
    "8g6L87AvMn1A",
    "zpQAwyE5Mn1C",
    "3O7BSNhwMn1I",
    "JoCqjQkpMn1K",
    "sT72cUyKMn1P",
    "fAmo3aowMn1S",
    "Y1FsrBxcMn1U",
    "cmBSXOuxMn1W",
    "q10ghDXkMn1g",
    "U9q-uLcKMn1i",
    "RK1TO3n9Mn1l",
    "1AKyFoN8Mn1n",
    "Jmd5znxRMn1p",
    "Ocg0Z0UtMn1r",
    "UR9PMpqCMn1t",
    "bzEBUAR6Mn1v",
    "JmKpVvqxMn1x",
    "jEPB2ceQMn1y",
    "089o7rqTMn10",
    "BKPk9S6WMn15",
    "nOOyMIdCMn18",
    "lH0UsRmlMn2A"
   ],
   "name": "analysis.ipynb",
   "provenance": []
  },
  "kernelspec": {
   "display_name": "Python 3",
   "language": "python",
   "name": "python3"
  },
  "language_info": {
   "codemirror_mode": {
    "name": "ipython",
    "version": 3
   },
   "file_extension": ".py",
   "mimetype": "text/x-python",
   "name": "python",
   "nbconvert_exporter": "python",
   "pygments_lexer": "ipython3",
   "version": "3.7.4"
  }
 },
 "nbformat": 4,
 "nbformat_minor": 1
}
